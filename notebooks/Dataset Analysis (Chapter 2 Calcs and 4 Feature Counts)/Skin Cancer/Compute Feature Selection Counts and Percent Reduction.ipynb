{
 "cells": [
  {
   "cell_type": "code",
   "execution_count": 30,
   "metadata": {
    "collapsed": true
   },
   "outputs": [],
   "source": [
    "import numpy as np"
   ]
  },
  {
   "cell_type": "code",
   "execution_count": 1,
   "metadata": {
    "collapsed": true
   },
   "outputs": [],
   "source": [
    "latex = \"\"\"\n",
    "BOW Unigrams \t\t\t\t& 1,617.8  & \t1,560.6 \\\\\n",
    "BOW Bigrams \t\t\t\t\t& 20,957.4 & \t19,481.4 \\\\\n",
    "BOW Trigrams \t\t\t\t& 46,318.2 & \t43,600.4 \\\\\n",
    "\n",
    "Positional Unigrams \t\t\t&  8,305.0 & \t7,878.8 \\\\\n",
    "Positional Bigrams\t\t\t& 23,740.4 &  \t23,424.8 \\\\\n",
    "Positional Trigrams \t\t\t& 18,619.8 & \t20,119.2 \\\\\n",
    "\n",
    "Positional Stemmed Unigrams \t& 6,486.6 \t& \t6,363.4 \\\\\n",
    "Positional Stemmed Bigrams \t& 23,263.6 \t& \t23,344.4 \\\\\n",
    "Positional Stemmed Trigrams\t& 18,941.6 \t& \t20,337.0 \\\\\n",
    "\n",
    "BOW POS \t\t\t\t\t    & 40.6 \t\t& \t41.6 \\\\\n",
    "Positional POS\t\t\t\t& 321.8 \t\t& \t323.0 \\\\\n",
    "\n",
    "Dependency Parsed Relations\t& 4,848.0 \t& \t4,711.2 \\\\\n",
    "Brown Cluster Labels \t\t& 512.8 \t\t& \t493.2 \\\\\n",
    "\"\"\""
   ]
  },
  {
   "cell_type": "code",
   "execution_count": 51,
   "metadata": {},
   "outputs": [
    {
     "name": "stdout",
     "output_type": "stream",
     "text": [
      "BOW Unigrams \t 1617.8|1560.6\n",
      "BOW Bigrams \t 20957.4|19481.4\n",
      "BOW Trigrams \t 46318.2|43600.4\n",
      "Positional Unigrams \t 8305.0|7878.8\n",
      "Positional Bigrams \t 23740.4|23424.8\n",
      "Positional Trigrams \t 18619.8|20119.2\n",
      "Positional Stemmed Unigrams \t 6486.6|6363.4\n",
      "Positional Stemmed Bigrams \t 23263.6|23344.4\n",
      "Positional Stemmed Trigrams \t 18941.6|20337.0\n",
      "BOW POS \t 40.6|41.6\n",
      "Positional POS \t 321.8|323.0\n",
      "Dependency Parsed Relations \t 4848.0|4711.2\n",
      "Brown Cluster Labels \t 512.8|493.2\n"
     ]
    }
   ],
   "source": [
    "cb,sc = [],[]\n",
    "cb_key2count,sc_key2count = {},{}\n",
    "\n",
    "keys = []\n",
    "for line in latex.split(\"\\n\"):\n",
    "    if line:\n",
    "        ix = line.find(\"&\")\n",
    "        key = line[:ix].strip()\n",
    "        keys.append(key)\n",
    "        \n",
    "        numbers = [float(n.strip().replace(\",\",\"\")) for n in ((line[ix+1:].strip())[:-1].split(\"&\"))]\n",
    "        cb_nos, sc_nos = numbers\n",
    "        cb.append(cb_nos)\n",
    "        sc.append(sc_nos)\n",
    "        \n",
    "        cb_key2count[key] = cb_nos\n",
    "        sc_key2count[key] = sc_nos\n",
    "        \n",
    "        #print(key)\n",
    "        print(key, \"\\t\", \"|\".join(map(str,numbers)))\n",
    "        #print(numbers)"
   ]
  },
  {
   "cell_type": "code",
   "execution_count": 35,
   "metadata": {},
   "outputs": [
    {
     "data": {
      "text/plain": [
       "['BOW Unigrams',\n",
       " 'BOW Bigrams',\n",
       " 'BOW Trigrams',\n",
       " 'Positional Unigrams',\n",
       " 'Positional Bigrams',\n",
       " 'Positional Trigrams',\n",
       " 'Positional Stemmed Unigrams',\n",
       " 'Positional Stemmed Bigrams',\n",
       " 'Positional Stemmed Trigrams',\n",
       " 'BOW POS',\n",
       " 'Positional POS',\n",
       " 'Dependency Parsed Relations',\n",
       " 'Brown Cluster Labels']"
      ]
     },
     "execution_count": 35,
     "metadata": {},
     "output_type": "execute_result"
    }
   ],
   "source": [
    "keys"
   ]
  },
  {
   "cell_type": "markdown",
   "metadata": {},
   "source": [
    "## Compute Totals Feature Counts "
   ]
  },
  {
   "cell_type": "code",
   "execution_count": 81,
   "metadata": {},
   "outputs": [
    {
     "data": {
      "text/plain": [
       "(173973.59999999998, 171679.00000000003)"
      ]
     },
     "execution_count": 81,
     "metadata": {},
     "output_type": "execute_result"
    }
   ],
   "source": [
    "sum_cb = np.sum(cb)\n",
    "sum_sc = np.sum(sc)\n",
    "sum_cb, sum_sc"
   ]
  },
  {
   "cell_type": "markdown",
   "metadata": {},
   "source": [
    "## Compute Percentage Reduction in Feature Counts"
   ]
  },
  {
   "cell_type": "code",
   "execution_count": 82,
   "metadata": {},
   "outputs": [],
   "source": [
    "def correct_keys(k):\n",
    "    return k.replace(\"Pos.\",\"Positional\")\\\n",
    "            .replace(\"Dep.\", \"Dependency\")\n",
    "\n",
    "cb_selected = [\"Pos. Stemmed Unigrams\",\n",
    "               \"Pos. Stemmed Bigrams\",\n",
    "               \"BOW Unigrams\",               \n",
    "               \"Brown Cluster Labels\",\n",
    "               \"Pos. Stemmed Trigrams\", \n",
    "               \"Dep. Parsed Relations\"\n",
    "              ]\n",
    "\n",
    "cb_selected  = list(map(correct_keys, cb_selected))\n",
    "\n",
    "sc_selected = [\"Pos. Stemmed Unigrams\",\n",
    "               \"Pos. Stemmed Bigrams\",\n",
    "               \"Brown Cluster Labels\",\n",
    "               \"BOW Unigrams\",               \n",
    "               \"Dep. Parsed Relations\",\n",
    "               \"Pos. Unigrams\"\n",
    "              ]\n",
    "\n",
    "sc_selected  = list(map(correct_keys, sc_selected))"
   ]
  },
  {
   "cell_type": "code",
   "execution_count": 83,
   "metadata": {},
   "outputs": [],
   "source": [
    "assert len(set(cb_selected).intersection(keys)) == len(cb_selected)"
   ]
  },
  {
   "cell_type": "code",
   "execution_count": 84,
   "metadata": {},
   "outputs": [],
   "source": [
    "assert len(set(sc_selected).intersection(keys)) == len(sc_selected)"
   ]
  },
  {
   "cell_type": "code",
   "execution_count": 86,
   "metadata": {},
   "outputs": [],
   "source": [
    "def total_selected(selected_keys, tally):\n",
    "    total = 0\n",
    "    for key in selected_keys:\n",
    "        assert key in tally, \"Key: {key} is missing\".format(key=key)\n",
    "        total += tally[key]\n",
    "    return total"
   ]
  },
  {
   "cell_type": "code",
   "execution_count": 104,
   "metadata": {},
   "outputs": [
    {
     "data": {
      "text/plain": [
       "(173973.59999999998, 171679.00000000003)"
      ]
     },
     "execution_count": 104,
     "metadata": {},
     "output_type": "execute_result"
    }
   ],
   "source": [
    "sum_cb, sum_sc"
   ]
  },
  {
   "cell_type": "code",
   "execution_count": 102,
   "metadata": {},
   "outputs": [
    {
     "name": "stdout",
     "output_type": "stream",
     "text": [
      "Total: 55670.40\t Percent Inc. :0.32\t Percent Red. :0.68\n"
     ]
    }
   ],
   "source": [
    "total_sel_cb = total_selected(cb_selected, cb_key2count)\n",
    "pct_cb = total_sel_cb / sum_cb"
   ]
  },
  {
   "cell_type": "code",
   "execution_count": 105,
   "metadata": {},
   "outputs": [],
   "source": [
    "total_sel_sc = total_selected(sc_selected, sc_key2count)\n",
    "pct_sc = total_sel_sc / sum_sc"
   ]
  },
  {
   "cell_type": "code",
   "execution_count": 111,
   "metadata": {},
   "outputs": [
    {
     "name": "stdout",
     "output_type": "stream",
     "text": [
      "CB\n",
      "All: 173973.6\t Selected: 55670.40\t Percent Inc. :0.32\t Percent Red. :0.68\n",
      "\n",
      "SC\n",
      "All: 171679.0\t Selected: 44351.60\t Percent Inc. :0.26\t Percent Red. :0.74\n"
     ]
    }
   ],
   "source": [
    "print(\"CB\")\n",
    "print(\"All: {all:.1f}\\t Selected: {total:.2f}\\t Percent Inc. :{pct_inc:.2f}\\t Percent Red. :{pct_red:.2f}\"\n",
    "          .format(all=sum_cb, total=total_sel_cb, pct_inc=pct_cb, pct_red= 1-pct_cb))\n",
    "print(\"\\nSC\")\n",
    "print(\"All: {all:.1f}\\t Selected: {total:.2f}\\t Percent Inc. :{pct_inc:.2f}\\t Percent Red. :{pct_red:.2f}\"\n",
    "          .format(all=sum_sc, total=total_sel_sc, pct_inc=pct_sc, pct_red= 1-pct_sc))"
   ]
  },
  {
   "cell_type": "code",
   "execution_count": null,
   "metadata": {
    "collapsed": true
   },
   "outputs": [],
   "source": []
  }
 ],
 "metadata": {
  "kernelspec": {
   "display_name": "Python 3",
   "language": "python",
   "name": "python3"
  },
  "language_info": {
   "codemirror_mode": {
    "name": "ipython",
    "version": 3
   },
   "file_extension": ".py",
   "mimetype": "text/x-python",
   "name": "python",
   "nbconvert_exporter": "python",
   "pygments_lexer": "ipython3",
   "version": "3.5.3"
  }
 },
 "nbformat": 4,
 "nbformat_minor": 2
}
