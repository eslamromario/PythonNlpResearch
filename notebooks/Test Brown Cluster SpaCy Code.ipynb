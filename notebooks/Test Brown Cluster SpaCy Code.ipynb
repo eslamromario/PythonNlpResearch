{
 "cells": [
  {
   "cell_type": "code",
   "execution_count": 1,
   "metadata": {
    "collapsed": true
   },
   "outputs": [],
   "source": [
    "from spacy.en import English\n",
    "from collections import defaultdict\n",
    "\n",
    "class BinaryRelation(object):\n",
    "    def __init__(self, head, relation, child):\n",
    "        self.relation = relation\n",
    "        self.head = head\n",
    "        self.child = \"None\" if (child is None or child.strip() == \"\") else child\n",
    "\n",
    "    def __repr__(self):\n",
    "        return \"[%s]%s -> %s\" % (self.relation, self.head, self.child)\n",
    "\n",
    "class Relation(object):\n",
    "\n",
    "    def __init__(self, head, relation, children):\n",
    "        self.relation = relation\n",
    "        self.head = head\n",
    "        self.children = children\n",
    "        self.__binary_relns_ = None\n",
    "\n",
    "    def __repr__(self):\n",
    "        skids = \",\".join(self.children)\n",
    "        return \"[%s]%s -> %s\" % (self.relation, self.head, skids)\n",
    "\n",
    "    def binary_relations(self):\n",
    "        if self.__binary_relns_ is not None:\n",
    "            return self.__binary_relns_\n",
    "        rels = []\n",
    "        if len(self.children) == 0:\n",
    "            rels.append(BinaryRelation(self.head, self.relation, None))\n",
    "        else:\n",
    "            for ch in self.children:\n",
    "                rels.append(BinaryRelation(self.head, self.relation, ch))\n",
    "        self.__binary_relns_ = rels\n",
    "        return rels\n",
    "\n",
    "class Parser(object):\n",
    "\n",
    "    def __init__(self):\n",
    "        self.nlp = English()\n",
    "\n",
    "    def parse(self, tokens):\n",
    "        stokens = unicode(\" \".join(tokens))\n",
    "\n",
    "        tokens = self.__tokenize_(stokens)\n",
    "        children_for_head = defaultdict(set)\n",
    "        for token in tokens:\n",
    "            children_for_head[token.head.i].add(token.string.strip())\n",
    "\n",
    "        relations = []\n",
    "        for token in tokens:\n",
    "            kids = children_for_head[token.i]\n",
    "            relations.append(Relation(token.head.string, token.dep_, list(kids)))\n",
    "\n",
    "        assert len(relations) == len(tokens), \"There are a different number of tokens to relations\"\n",
    "        return relations\n",
    "\n",
    "    def pos_tag(self, tokens):\n",
    "        stokens = unicode(\" \".join(tokens))\n",
    "        tokens = self.__tokenize_(stokens)\n",
    "        return list(map(lambda t: t.pos_, tokens))\n",
    "\n",
    "    def pos_tag2(self, tokens):\n",
    "        stokens = unicode(\" \".join(tokens))\n",
    "        tokens = self.__tokenize_(stokens)\n",
    "        return list(map(lambda t: t.tag_, tokens))\n",
    "\n",
    "    def brown_cluster(self, tokens):\n",
    "        stokens = unicode(\" \".join(tokens))\n",
    "        tokens = self.__tokenize_(stokens)\n",
    "        return list(map(lambda t: str(t.cluster), tokens))\n",
    "\n",
    "    def dep_vector(self, tokens):\n",
    "        stokens = unicode(\" \".join(tokens))\n",
    "        tokens = self.__tokenize_(stokens)\n",
    "        # yields a list of (300,) dimensional numpy arrays\n",
    "        return list(map(lambda t: t.repvec, tokens))\n",
    "\n",
    "    def __tokenize_(self, sentence):\n",
    "        return list(self.nlp(sentence, tag=True, parse=True))"
   ]
  },
  {
   "cell_type": "code",
   "execution_count": 8,
   "metadata": {
    "collapsed": false
   },
   "outputs": [
    {
     "data": {
      "text/plain": [
       "['30', '13290', '6117', '28', '7607', '1785', '682', '8185', '1913']"
      ]
     },
     "execution_count": 8,
     "metadata": {},
     "output_type": "execute_result"
    }
   ],
   "source": [
    "parser = Parser()\n",
    "tokens = \"The increasing levels of carbon dioxide caused coral bleaching\".split(\" \")\n",
    "parser.brown_cluster(tokens=tokens)"
   ]
  },
  {
   "cell_type": "markdown",
   "metadata": {},
   "source": [
    "## NOTE - Only Works in Python 2.x for Some Reason"
   ]
  },
  {
   "cell_type": "code",
   "execution_count": null,
   "metadata": {
    "collapsed": true
   },
   "outputs": [],
   "source": []
  }
 ],
 "metadata": {
  "anaconda-cloud": {},
  "kernelspec": {
   "display_name": "Python [conda env:phd]",
   "language": "python",
   "name": "conda-env-phd-py"
  },
  "language_info": {
   "codemirror_mode": {
    "name": "ipython",
    "version": 2
   },
   "file_extension": ".py",
   "mimetype": "text/x-python",
   "name": "python",
   "nbconvert_exporter": "python",
   "pygments_lexer": "ipython2",
   "version": "2.7.13"
  }
 },
 "nbformat": 4,
 "nbformat_minor": 2
}
