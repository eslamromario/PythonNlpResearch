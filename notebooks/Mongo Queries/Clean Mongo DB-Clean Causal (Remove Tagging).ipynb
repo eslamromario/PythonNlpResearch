{
 "cells": [
  {
   "cell_type": "code",
   "execution_count": 2,
   "metadata": {
    "collapsed": true
   },
   "outputs": [],
   "source": [
    "import pymongo"
   ]
  },
  {
   "cell_type": "code",
   "execution_count": 3,
   "metadata": {},
   "outputs": [
    {
     "data": {
      "text/plain": [
       "Database(MongoClient(host=['localhost:27017'], document_class=dict, tz_aware=False, connect=True), u'metrics_causal')"
      ]
     },
     "execution_count": 3,
     "metadata": {},
     "output_type": "execute_result"
    }
   ],
   "source": [
    "client = pymongo.MongoClient()\n",
    "db = client.metrics_causal\n",
    "db"
   ]
  },
  {
   "cell_type": "markdown",
   "metadata": {},
   "source": [
    "## Iterate Over All of the Collections in the DB"
   ]
  },
  {
   "cell_type": "code",
   "execution_count": 4,
   "metadata": {},
   "outputs": [
    {
     "name": "stdout",
     "output_type": "stream",
     "text": [
      "(79, 'collections')\n",
      "CB_TAGGING_TD_AVG_PERCEPTRON_MOST_COMMON_TAG\n",
      "CB_TAGGING_TD_AVG_PERCEPTRON_MOST_COMMON_TAG_HYPER_PARAM_TUNING_NEW\n",
      "CB_TAGGING_TD_CRF_MOST_COMMON_TAG_HYPERPARAM_OPT\n",
      "CB_TAGGING_TD_FEAT_SELECTION\n",
      "CB_TAGGING_TD_HMM_MOST_COMMON_TAG_MULTICLASS\n",
      "CB_TAGGING_TD_RNN_MOST_COMMON_TAG_HYPER_PARAM_TUNING\n",
      "CB_TAGGING_TD_WINDOW_CLASSIFIER_BR\n",
      "CB_TAGGING_TD_WINDOW_CLASSIFIER_LBL_POWERSET_MULTICLASS\n",
      "CB_TAGGING_TD_WINDOW_CLASSIFIER_MOST_COMMON_TAG_MULTICLASS\n",
      "CB_TAGGING_TD_WINDOW_CLASSIFIER_MOST_COMMON_TAG_MULTICLASS_HYPER_PARAM_TUNING\n",
      "CB_TAGGING_VD_AVG_PERCEPTRON_MOST_COMMON_TAG\n",
      "CB_TAGGING_VD_AVG_PERCEPTRON_MOST_COMMON_TAG_HYPER_PARAM_TUNING_NEW\n",
      "CB_TAGGING_VD_CRF_MOST_COMMON_TAG_HYPERPARAM_OPT\n",
      "CB_TAGGING_VD_FEAT_SELECTION\n",
      "CB_TAGGING_VD_HMM_MOST_COMMON_TAG_MULTICLASS\n",
      "CB_TAGGING_VD_RNN_MOST_COMMON_TAG_HYPER_PARAM_TUNING\n",
      "CB_TAGGING_VD_WINDOW_CLASSIFIER_BR\n",
      "CB_TAGGING_VD_WINDOW_CLASSIFIER_LBL_POWERSET_MULTICLASS\n",
      "CB_TAGGING_VD_WINDOW_CLASSIFIER_MOST_COMMON_TAG_MULTICLASS\n",
      "CB_TAGGING_VD_WINDOW_CLASSIFIER_MOST_COMMON_TAG_MULTICLASS_HYPER_PARAM_TUNING\n",
      "CR_CB_SHIFT_REDUCE_PARSER_TEMPLATED_FEATURE_SEL_TD\n",
      "CR_CB_SHIFT_REDUCE_PARSER_TEMPLATED_FEATURE_SEL_VD\n",
      "CR_CB_SHIFT_REDUCE_PARSER_TEMPLATED_TD\n",
      "CR_CB_SHIFT_REDUCE_PARSER_TEMPLATED_VD\n",
      "CR_CB_STACKED_TD\n",
      "CR_CB_STACKED_VD\n",
      "CR_CB_TAGGING_TD_MOST_COMMON_TAG_RNN\n",
      "CR_CB_TAGGING_VD_MOST_COMMON_TAG_RNN\n",
      "CR_SC_STACKED_TD\n",
      "CR_SC_STACKED_VD\n",
      "CR_SC_TAGGING_TD_MOST_COMMON_TAG_RNN\n",
      "CR_SC_TAGGING_VD_MOST_COMMON_TAG_RNN\n",
      "SC_TAGGING_TD_AVG_PERCEPTRON_MOST_COMMON_TAG_HYPER_PARAM_TUNING_NEW\n",
      "SC_TAGGING_TD_CRF_MOST_COMMON_TAG_HYPERPARAM_OPT\n",
      "SC_TAGGING_TD_FEAT_SELECTION\n",
      "SC_TAGGING_TD_HMM_MOST_COMMON_TAG_MULTICLASS\n",
      "SC_TAGGING_TD_RNN_MOST_COMMON_TAG_HYPER_PARAM_TUNING\n",
      "SC_TAGGING_TD_WINDOW_CLASSIFIER_BR\n",
      "SC_TAGGING_TD_WINDOW_CLASSIFIER_LBL_POWERSET_MULTICLASS\n",
      "SC_TAGGING_TD_WINDOW_CLASSIFIER_MOST_COMMON_TAG_MULTICLASS\n",
      "SC_TAGGING_TD_WINDOW_CLASSIFIER_MOST_COMMON_TAG_MULTICLASS_HYPER_PARAM_TUNING\n",
      "SC_TAGGING_VD_AVG_PERCEPTRON_MOST_COMMON_TAG_HYPER_PARAM_TUNING_NEW\n",
      "SC_TAGGING_VD_CRF_MOST_COMMON_TAG_HYPERPARAM_OPT\n",
      "SC_TAGGING_VD_FEAT_SELECTION\n",
      "SC_TAGGING_VD_HMM_MOST_COMMON_TAG_MULTICLASS\n",
      "SC_TAGGING_VD_RNN_MOST_COMMON_TAG_HYPER_PARAM_TUNING\n",
      "SC_TAGGING_VD_WINDOW_CLASSIFIER_BR\n",
      "SC_TAGGING_VD_WINDOW_CLASSIFIER_LBL_POWERSET_MULTICLASS\n",
      "SC_TAGGING_VD_WINDOW_CLASSIFIER_MOST_COMMON_TAG_MULTICLASS\n",
      "SC_TAGGING_VD_WINDOW_CLASSIFIER_MOST_COMMON_TAG_MULTICLASS_HYPER_PARAM_TUNING\n",
      "TEST_CB_TAGGING_TD_AVG_PERCEPTRON_MOST_COMMON_TAG\n",
      "TEST_CB_TAGGING_TD_CRF_MOST_COMMON_TAG\n",
      "TEST_CB_TAGGING_TD_HMM_MOST_COMMON_TAG_MULTICLASS\n",
      "TEST_CB_TAGGING_TD_RNN_MOST_COMMON_TAG\n",
      "TEST_CB_TAGGING_TD_WINDOW_CLASSIFIER_MOST_COMMON_TAG_MULTICLASS\n",
      "TEST_CB_TAGGING_VD_AVG_PERCEPTRON_MOST_COMMON_TAG\n",
      "TEST_CB_TAGGING_VD_CRF_MOST_COMMON_TAG\n",
      "TEST_CB_TAGGING_VD_HMM_MOST_COMMON_TAG_MULTICLASS\n",
      "TEST_CB_TAGGING_VD_RNN_MOST_COMMON_TAG\n",
      "TEST_CB_TAGGING_VD_WINDOW_CLASSIFIER_MOST_COMMON_TAG_MULTICLASS\n",
      "TEST_CR_CB_STACKED_TD\n",
      "TEST_CR_CB_STACKED_VD\n",
      "TEST_CR_CB_TAGGING_TD_MOST_COMMON_TAG_RNN\n",
      "TEST_CR_CB_TAGGING_VD_MOST_COMMON_TAG_RNN\n",
      "TEST_CR_SC_STACKED_TD\n",
      "TEST_CR_SC_STACKED_VD\n",
      "TEST_CR_SC_TAGGING_TD_MOST_COMMON_TAG_RNN\n",
      "TEST_CR_SC_TAGGING_VD_MOST_COMMON_TAG_RNN\n",
      "TEST_SC_TAGGING_TD_AVG_PERCEPTRON_MOST_COMMON_TAG\n",
      "TEST_SC_TAGGING_TD_CRF_MOST_COMMON_TAG\n",
      "TEST_SC_TAGGING_TD_HMM_MOST_COMMON_TAG_MULTICLASS\n",
      "TEST_SC_TAGGING_TD_RNN_MOST_COMMON_TAG\n",
      "TEST_SC_TAGGING_TD_WINDOW_CLASSIFIER_MOST_COMMON_TAG_MULTICLASS\n",
      "TEST_SC_TAGGING_VD_AVG_PERCEPTRON_MOST_COMMON_TAG\n",
      "TEST_SC_TAGGING_VD_CRF_MOST_COMMON_TAG\n",
      "TEST_SC_TAGGING_VD_HMM_MOST_COMMON_TAG_MULTICLASS\n",
      "TEST_SC_TAGGING_VD_RNN_MOST_COMMON_TAG\n",
      "TEST_SC_TAGGING_VD_WINDOW_CLASSIFIER_MOST_COMMON_TAG_MULTICLASS\n",
      "system.indexes\n"
     ]
    }
   ],
   "source": [
    "s_collection = sorted(db.collection_names())\n",
    "print(len(s_collection), \"collections\")\n",
    "for col in s_collection:\n",
    "    print col"
   ]
  },
  {
   "cell_type": "markdown",
   "metadata": {},
   "source": [
    "## Clean Data"
   ]
  },
  {
   "cell_type": "code",
   "execution_count": 8,
   "metadata": {},
   "outputs": [],
   "source": [
    "for col in db.collection_names():\n",
    "    collection = db[col]\n",
    "    \n",
    "    drop = False\n",
    "    # Drop none causal\n",
    "    if \"CR_\" not in col and \"system\" not in col:\n",
    "        drop = True\n",
    "        \n",
    "    #if drop:\n",
    "    #    print(col)        \n",
    "    #continue\n",
    "\n",
    "    final_count = collection.find({}).count()\n",
    "    if final_count == 0:\n",
    "        drop = True\n",
    "        print \"Empty collection - \" + col\n",
    "    \n",
    "    if drop:\n",
    "        print \"Dropping \" + col + \" ...\"\n",
    "        collection.drop()"
   ]
  },
  {
   "cell_type": "markdown",
   "metadata": {},
   "source": [
    "## Print Remaining"
   ]
  },
  {
   "cell_type": "code",
   "execution_count": 9,
   "metadata": {},
   "outputs": [
    {
     "name": "stdout",
     "output_type": "stream",
     "text": [
      "(21, 'collections')\n",
      "CR_CB_SHIFT_REDUCE_PARSER_TEMPLATED_FEATURE_SEL_TD\n",
      "CR_CB_SHIFT_REDUCE_PARSER_TEMPLATED_FEATURE_SEL_VD\n",
      "CR_CB_SHIFT_REDUCE_PARSER_TEMPLATED_TD\n",
      "CR_CB_SHIFT_REDUCE_PARSER_TEMPLATED_VD\n",
      "CR_CB_STACKED_TD\n",
      "CR_CB_STACKED_VD\n",
      "CR_CB_TAGGING_TD_MOST_COMMON_TAG_RNN\n",
      "CR_CB_TAGGING_VD_MOST_COMMON_TAG_RNN\n",
      "CR_SC_STACKED_TD\n",
      "CR_SC_STACKED_VD\n",
      "CR_SC_TAGGING_TD_MOST_COMMON_TAG_RNN\n",
      "CR_SC_TAGGING_VD_MOST_COMMON_TAG_RNN\n",
      "TEST_CR_CB_STACKED_TD\n",
      "TEST_CR_CB_STACKED_VD\n",
      "TEST_CR_CB_TAGGING_TD_MOST_COMMON_TAG_RNN\n",
      "TEST_CR_CB_TAGGING_VD_MOST_COMMON_TAG_RNN\n",
      "TEST_CR_SC_STACKED_TD\n",
      "TEST_CR_SC_STACKED_VD\n",
      "TEST_CR_SC_TAGGING_TD_MOST_COMMON_TAG_RNN\n",
      "TEST_CR_SC_TAGGING_VD_MOST_COMMON_TAG_RNN\n",
      "system.indexes\n"
     ]
    }
   ],
   "source": [
    "s_collection = sorted(db.collection_names())\n",
    "print(len(s_collection), \"collections\")\n",
    "for col in s_collection:\n",
    "    print col"
   ]
  },
  {
   "cell_type": "markdown",
   "metadata": {},
   "source": [
    "### How Many are Not Causal?"
   ]
  },
  {
   "cell_type": "code",
   "execution_count": 11,
   "metadata": {},
   "outputs": [
    {
     "name": "stdout",
     "output_type": "stream",
     "text": [
      "system.indexes\n"
     ]
    }
   ],
   "source": [
    "for col in s_collection:\n",
    "    if \"CR_\" not in col:\n",
    "        print col"
   ]
  }
 ],
 "metadata": {
  "anaconda-cloud": {},
  "kernelspec": {
   "display_name": "Python [conda env:phd]",
   "language": "python",
   "name": "conda-env-phd-py"
  },
  "language_info": {
   "codemirror_mode": {
    "name": "ipython",
    "version": 2
   },
   "file_extension": ".py",
   "mimetype": "text/x-python",
   "name": "python",
   "nbconvert_exporter": "python",
   "pygments_lexer": "ipython2",
   "version": "2.7.13"
  }
 },
 "nbformat": 4,
 "nbformat_minor": 2
}
