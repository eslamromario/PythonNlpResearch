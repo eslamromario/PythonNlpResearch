{
 "cells": [
  {
   "cell_type": "code",
   "execution_count": 1,
   "metadata": {
    "collapsed": true
   },
   "outputs": [],
   "source": [
    "%matplotlib inline\n",
    "import numpy as np\n",
    "import pandas as pd\n",
    "#import seaborn as sns\n",
    "import pymongo\n",
    "from pprint import pprint"
   ]
  },
  {
   "cell_type": "code",
   "execution_count": 2,
   "metadata": {
    "collapsed": true
   },
   "outputs": [],
   "source": [
    "client = pymongo.MongoClient()\n",
    "db = client.metrics"
   ]
  },
  {
   "cell_type": "code",
   "execution_count": 3,
   "metadata": {
    "collapsed": true
   },
   "outputs": [],
   "source": [
    "def group_by(df, bycols, agg_map):\n",
    "    \"\"\"\n",
    "\n",
    "    @param df:      DataFrame\n",
    "    @param bycols:  str or list\n",
    "                        Column(s) to group by\n",
    "    @param agg_map: dictionary or list of 2-tuples\n",
    "                        Mapping from column to aggregate function e.g. [(\"city\", \"count\"), (\"salary\", \"mean\"]\n",
    "    @return:        DataFrame\n",
    "                        Flattened dataframe, with multi-level index removed\n",
    "    \"\"\"\n",
    "    grps = []\n",
    "    if type(bycols) == str:\n",
    "        bycols = [bycols]\n",
    "\n",
    "    if type(agg_map) == dict:\n",
    "        agg_map = agg_map.items()\n",
    "\n",
    "    for k,v in agg_map:\n",
    "        grp = df[bycols + [k]].groupby(bycols, ).agg(v)\n",
    "        grp.reset_index(inplace=True)\n",
    "        grp[\"%s(%s)\" % (v,k)] = grp[k]\n",
    "        del grp[k]\n",
    "        grps.append(grp)\n",
    "\n",
    "    m = grps[0]\n",
    "    for grp in grps[1:]:\n",
    "        m = pd.merge(m, grp, on=bycols, how=\"inner\")\n",
    "    return m"
   ]
  },
  {
   "cell_type": "code",
   "execution_count": 88,
   "metadata": {
    "collapsed": true
   },
   "outputs": [],
   "source": [
    "from bson.son import SON # needed to ensure dictionary is ordered (python default is not)\n",
    "import hashlib\n",
    "\n",
    "def hash_feats(fts):\n",
    "    vals = fts.values\n",
    "    joined = \"|\".join(map(lambda s: str(s),vals)).encode('utf-8') \n",
    "    return hashlib.sha224(joined).hexdigest()\n",
    "\n",
    "def get_df_sorted_by_f1score(collection, params=None, filter_cols=True):\n",
    "    if not params:\n",
    "        params = []\n",
    "    if type(params) == str:\n",
    "        params = params.split(\",\")\n",
    "    \n",
    "    project = {\n",
    "            \"weighted_f1_score\":\"$WEIGHTED_MEAN_CONCEPT_CODES.f1_score\",\n",
    "            \"macro_f1_score\":   \"$MACRO_F1\",\n",
    "            \"micro_f1_score\":  \"$MICRO_F1.f1_score\",\n",
    "            \"micro_recall\":    \"$MICRO_F1.recall\",\n",
    "            \"micro_precision\": \"$MICRO_F1.precision\",\n",
    "    \n",
    "    # PARAMETERS            \n",
    "            \"window_size\":    \"$parameters.window_size\",\n",
    "            \"feats\":          \"$parameters.extractors\",\n",
    "            \"count\": {        \"$size\" : \"$parameters.extractors\" },\n",
    "            \"asof\" :          \"$asof\",\n",
    "            \"_id\":1\n",
    "    }\n",
    "    \n",
    "    # No count for HMM\n",
    "    if \"_hmm\" in collection.lower():\n",
    "        del project[\"count\"]\n",
    "    \n",
    "    for param in params:\n",
    "        project[param] = \"$parameters.\" + param\n",
    "\n",
    "    feats_pipeline = [{\n",
    "        \"$project\": project\n",
    "    },\n",
    "    {\n",
    "        \"$match\":{\n",
    "            \"micro_f1_score\": { \"$exists\" : True }        \n",
    "        }\n",
    "    },\n",
    "    {\n",
    "        \"$sort\":{\n",
    "            \"micro_f1_score\": -1\n",
    "        }\n",
    "    },\n",
    "    ]\n",
    "    \n",
    "    rows = [row for row in db[collection].aggregate(feats_pipeline)]\n",
    "    df = pd.DataFrame(rows).sort_values(\"micro_f1_score\", ascending=False)\n",
    "    if params:\n",
    "        df[\"hs_params\"] = df[params].apply(hash_feats, axis=1)\n",
    "        \n",
    "    if filter_cols:\n",
    "        cols = [\"micro_f1_score\", \"micro_recall\" ,\"micro_precision\", \"macro_f1_score\" ] + params\n",
    "        return df[cols]\n",
    "    return df"
   ]
  },
  {
   "cell_type": "code",
   "execution_count": 89,
   "metadata": {
    "collapsed": true
   },
   "outputs": [],
   "source": [
    "def get_window_classifier_results(prefix):\n",
    "    collections = \"WINDOW_CLASSIFIER_BR,WINDOW_CLASSIFIER_LBL_POWERSET_MULTICLASS,WINDOW_CLASSIFIER_MOST_COMMON_TAG_MULTICLASS\".split(\",\")\n",
    "    dfs = []\n",
    "    for c in collections:\n",
    "        col = prefix + c\n",
    "        print(col)\n",
    "        df = dict(get_df_sorted_by_f1score(col).iloc[0,:])\n",
    "        df[\"Collection_\" + prefix[:-1]] = col.replace(prefix,\"\")\n",
    "        dfs.append(df)\n",
    "    return pd.DataFrame(dfs).sort_values(\"micro_f1_score\", ascending=False)"
   ]
  },
  {
   "cell_type": "code",
   "execution_count": 90,
   "metadata": {
    "collapsed": true
   },
   "outputs": [],
   "source": [
    "def round_data(df, places=3):\n",
    "    df_copy = df.copy()\n",
    "    fmt_str = \"{0:.\" + str(places) + \"f}\"\n",
    "    cols = set([v for v in df_copy.columns.values if \"micro_\" in v])\n",
    "    for c in cols:\n",
    "        df_copy[c] = df[c].apply(lambda d: fmt_str.format(d))  \n",
    "    return df_copy"
   ]
  },
  {
   "cell_type": "code",
   "execution_count": 91,
   "metadata": {
    "collapsed": true
   },
   "outputs": [],
   "source": [
    "def compute_macro_metrics(coll):\n",
    "    for row in db[coll].find({}):\n",
    "        precision, recall = [],[]\n",
    "        keys = []\n",
    "        for k in row.keys():\n",
    "            if k[0].isdigit():\n",
    "                keys.append(k)\n",
    "                code, prec, rec = k, row[k][\"precision\"], row[k][\"recall\"]\n",
    "                precision.append(prec)\n",
    "                recall.append(rec)\n",
    "        macro_f1 = row[\"MACRO_F1\"]\n",
    "        mprec = np.mean(precision)\n",
    "        mrec =  np.mean(recall)\n",
    "        est_mf1 = (2 * mprec * mrec) / (mprec + mrec)\n",
    "        print(coll)\n",
    "        #print(macro_f1, est_mf1)\n",
    "        print(\"macro_f1:{mf1:.4f}\\tmrec:{rec:.4f}\\tmprec:{prec:.4f}\".format(code=code, mf1=macro_f1, prec=mprec, rec=mrec))\n",
    "        print(\",\".join(sorted(keys)))\n",
    "        print(\"\")"
   ]
  },
  {
   "cell_type": "code",
   "execution_count": 92,
   "metadata": {},
   "outputs": [
    {
     "name": "stdout",
     "output_type": "stream",
     "text": [
      "TEST_CB_TAGGING_VD_WINDOW_CLASSIFIER_MOST_COMMON_TAG_MULTICLASS\n",
      "macro_f1:0.7400\tmrec:0.6887\tmprec:0.7995\n",
      "1,11,12,13,14,2,3,4,5,50,5b,6,7\n",
      "\n",
      "TEST_CB_TAGGING_VD_CRF_MOST_COMMON_TAG\n",
      "macro_f1:0.7250\tmrec:0.6763\tmprec:0.7812\n",
      "1,11,12,13,14,2,3,4,5,50,5b,6,7\n",
      "\n",
      "TEST_CB_TAGGING_VD_HMM_MOST_COMMON_TAG_MULTICLASS\n",
      "macro_f1:0.6575\tmrec:0.7246\tmprec:0.6017\n",
      "1,11,12,13,14,2,3,4,5,50,5b,6,7\n",
      "\n",
      "TEST_CB_TAGGING_VD_AVG_PERCEPTRON_MOST_COMMON_TAG\n",
      "macro_f1:0.7365\tmrec:0.6906\tmprec:0.7891\n",
      "1,11,12,13,14,2,3,4,5,50,5b,6,7\n",
      "\n",
      "TEST_CB_TAGGING_VD_RNN_MOST_COMMON_TAG\n",
      "macro_f1:0.7692\tmrec:0.7558\tmprec:0.7830\n",
      "1,11,12,13,14,2,3,4,5,50,5b,6,7\n",
      "\n"
     ]
    }
   ],
   "source": [
    "for collection in \"TEST_CB_TAGGING_VD_WINDOW_CLASSIFIER_MOST_COMMON_TAG_MULTICLASS,TEST_CB_TAGGING_VD_CRF_MOST_COMMON_TAG,TEST_CB_TAGGING_VD_HMM_MOST_COMMON_TAG_MULTICLASS,TEST_CB_TAGGING_VD_AVG_PERCEPTRON_MOST_COMMON_TAG,TEST_CB_TAGGING_VD_RNN_MOST_COMMON_TAG\".split(\",\"):\n",
    "    compute_macro_metrics(collection)"
   ]
  },
  {
   "cell_type": "code",
   "execution_count": 93,
   "metadata": {},
   "outputs": [
    {
     "name": "stdout",
     "output_type": "stream",
     "text": [
      "TEST_SC_TAGGING_VD_WINDOW_CLASSIFIER_MOST_COMMON_TAG_MULTICLASS\n",
      "macro_f1:0.7606\tmrec:0.6928\tmprec:0.8432\n",
      "1,11,12,2,3,4,5,50,6\n",
      "\n",
      "TEST_SC_TAGGING_VD_CRF_MOST_COMMON_TAG\n",
      "macro_f1:0.7557\tmrec:0.6851\tmprec:0.8425\n",
      "1,11,12,2,3,4,5,50,6\n",
      "\n",
      "TEST_SC_TAGGING_VD_HMM_MOST_COMMON_TAG_MULTICLASS\n",
      "macro_f1:0.6439\tmrec:0.6778\tmprec:0.6132\n",
      "1,11,12,2,3,4,5,50,6\n",
      "\n",
      "TEST_SC_TAGGING_VD_AVG_PERCEPTRON_MOST_COMMON_TAG\n",
      "macro_f1:0.7573\tmrec:0.6896\tmprec:0.8397\n",
      "1,11,12,2,3,4,5,50,6\n",
      "\n",
      "TEST_SC_TAGGING_VD_RNN_MOST_COMMON_TAG\n",
      "macro_f1:0.7793\tmrec:0.7111\tmprec:0.8619\n",
      "1,11,12,2,3,4,5,50,6\n",
      "\n"
     ]
    }
   ],
   "source": [
    "for collection in \"TEST_CB_TAGGING_VD_WINDOW_CLASSIFIER_MOST_COMMON_TAG_MULTICLASS,TEST_CB_TAGGING_VD_CRF_MOST_COMMON_TAG,TEST_CB_TAGGING_VD_HMM_MOST_COMMON_TAG_MULTICLASS,TEST_CB_TAGGING_VD_AVG_PERCEPTRON_MOST_COMMON_TAG,TEST_CB_TAGGING_VD_RNN_MOST_COMMON_TAG\".replace(\"CB\",\"SC\").split(\",\"):\n",
    "    compute_macro_metrics(collection)"
   ]
  },
  {
   "cell_type": "code",
   "execution_count": 94,
   "metadata": {
    "collapsed": true
   },
   "outputs": [],
   "source": [
    "def print_table_row(coll, algo):\n",
    "    for row in db[coll].find({}):\n",
    "        precision, recall = [],[]\n",
    "        keys = []\n",
    "        for k in row.keys():\n",
    "            if k[0].isdigit():\n",
    "                keys.append(k)\n",
    "                code, prec, rec = k, row[k][\"precision\"], row[k][\"recall\"]\n",
    "                precision.append(prec)\n",
    "                recall.append(rec)\n",
    "        macro_f1 = row[\"MACRO_F1\"]\n",
    "        mprec = np.mean(precision)\n",
    "        mrec =  np.mean(recall)\n",
    "        est_mf1 = (2 * mprec * mrec) / (mprec + mrec)\n",
    "        print(\"{algo} &\\t{mf1:.3f}\\t\\t\\t&\\t{rec:.3f}\\t\\t\\t&\\t{prec:.3f} \\\\\\\\\".format(algo=algo.ljust(25), code=code, mf1=macro_f1, prec=mprec, rec=mrec))\n",
    "        #print(\",\".join(sorted(keys)))        "
   ]
  },
  {
   "cell_type": "markdown",
   "metadata": {},
   "source": [
    "## Generate Macro Metrics Table"
   ]
  },
  {
   "cell_type": "code",
   "execution_count": 95,
   "metadata": {},
   "outputs": [],
   "source": [
    "def get_algo_name(coll):\n",
    "    if \"WINDOW\" in coll:\n",
    "        return \"Window-Based Tagger\"\n",
    "    if \"CRF\" in coll:\n",
    "        return \"CRF\"\n",
    "    if \"HMM\" in coll:\n",
    "        return \"HMM\"\n",
    "    if \"PERCEPTRON\" in coll:\n",
    "        return \"Structured Perceptron\"\n",
    "    if \"RNN\" in coll:\n",
    "        return \"Bidirectional RNN\""
   ]
  },
  {
   "cell_type": "markdown",
   "metadata": {},
   "source": [
    "### Coral Bleaching"
   ]
  },
  {
   "cell_type": "code",
   "execution_count": 96,
   "metadata": {},
   "outputs": [
    {
     "name": "stdout",
     "output_type": "stream",
     "text": [
      "Window-Based Tagger       &\t0.740\t\t\t&\t0.689\t\t\t&\t0.800 \\\\\n",
      "CRF                       &\t0.725\t\t\t&\t0.676\t\t\t&\t0.781 \\\\\n",
      "HMM                       &\t0.657\t\t\t&\t0.725\t\t\t&\t0.602 \\\\\n",
      "Structured Perceptron     &\t0.737\t\t\t&\t0.691\t\t\t&\t0.789 \\\\\n",
      "Bidirectional RNN         &\t0.769\t\t\t&\t0.756\t\t\t&\t0.783 \\\\\n"
     ]
    }
   ],
   "source": [
    "for collection in \"TEST_CB_TAGGING_VD_WINDOW_CLASSIFIER_MOST_COMMON_TAG_MULTICLASS,TEST_CB_TAGGING_VD_CRF_MOST_COMMON_TAG,TEST_CB_TAGGING_VD_HMM_MOST_COMMON_TAG_MULTICLASS,TEST_CB_TAGGING_VD_AVG_PERCEPTRON_MOST_COMMON_TAG,TEST_CB_TAGGING_VD_RNN_MOST_COMMON_TAG\".split(\",\"):\n",
    "    print_table_row(collection, get_algo_name(collection))"
   ]
  },
  {
   "cell_type": "markdown",
   "metadata": {},
   "source": [
    "### Skin Cancer"
   ]
  },
  {
   "cell_type": "code",
   "execution_count": 97,
   "metadata": {},
   "outputs": [
    {
     "name": "stdout",
     "output_type": "stream",
     "text": [
      "Window-Based Tagger       &\t0.761\t\t\t&\t0.693\t\t\t&\t0.843 \\\\\n",
      "CRF                       &\t0.756\t\t\t&\t0.685\t\t\t&\t0.843 \\\\\n",
      "HMM                       &\t0.644\t\t\t&\t0.678\t\t\t&\t0.613 \\\\\n",
      "Structured Perceptron     &\t0.757\t\t\t&\t0.690\t\t\t&\t0.840 \\\\\n",
      "Bidirectional RNN         &\t0.779\t\t\t&\t0.711\t\t\t&\t0.862 \\\\\n"
     ]
    }
   ],
   "source": [
    "for collection in \"TEST_CB_TAGGING_VD_WINDOW_CLASSIFIER_MOST_COMMON_TAG_MULTICLASS,TEST_CB_TAGGING_VD_CRF_MOST_COMMON_TAG,TEST_CB_TAGGING_VD_HMM_MOST_COMMON_TAG_MULTICLASS,TEST_CB_TAGGING_VD_AVG_PERCEPTRON_MOST_COMMON_TAG,TEST_CB_TAGGING_VD_RNN_MOST_COMMON_TAG\".split(\",\"):\n",
    "    collection = collection.replace(\"CB\",\"SC\")\n",
    "    #print(collection)\n",
    "    print_table_row(collection, get_algo_name(collection))"
   ]
  },
  {
   "cell_type": "code",
   "execution_count": null,
   "metadata": {
    "collapsed": true
   },
   "outputs": [],
   "source": []
  }
 ],
 "metadata": {
  "anaconda-cloud": {},
  "kernelspec": {
   "display_name": "Python [default]",
   "language": "python",
   "name": "python3"
  },
  "language_info": {
   "codemirror_mode": {
    "name": "ipython",
    "version": 3
   },
   "file_extension": ".py",
   "mimetype": "text/x-python",
   "name": "python",
   "nbconvert_exporter": "python",
   "pygments_lexer": "ipython3",
   "version": "3.6.1"
  }
 },
 "nbformat": 4,
 "nbformat_minor": 2
}
