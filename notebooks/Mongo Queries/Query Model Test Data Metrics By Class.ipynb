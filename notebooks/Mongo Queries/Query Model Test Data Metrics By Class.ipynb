{
 "cells": [
  {
   "cell_type": "code",
   "execution_count": 1,
   "metadata": {
    "collapsed": true
   },
   "outputs": [],
   "source": [
    "%matplotlib inline\n",
    "import numpy as np\n",
    "import pandas as pd\n",
    "#import seaborn as sns\n",
    "import pymongo\n",
    "from pprint import pprint"
   ]
  },
  {
   "cell_type": "code",
   "execution_count": 2,
   "metadata": {
    "collapsed": true
   },
   "outputs": [],
   "source": [
    "client = pymongo.MongoClient()\n",
    "db = client.metrics"
   ]
  },
  {
   "cell_type": "code",
   "execution_count": 3,
   "metadata": {
    "collapsed": true
   },
   "outputs": [],
   "source": [
    "def group_by(df, bycols, agg_map):\n",
    "    \"\"\"\n",
    "\n",
    "    @param df:      DataFrame\n",
    "    @param bycols:  str or list\n",
    "                        Column(s) to group by\n",
    "    @param agg_map: dictionary or list of 2-tuples\n",
    "                        Mapping from column to aggregate function e.g. [(\"city\", \"count\"), (\"salary\", \"mean\"]\n",
    "    @return:        DataFrame\n",
    "                        Flattened dataframe, with multi-level index removed\n",
    "    \"\"\"\n",
    "    grps = []\n",
    "    if type(bycols) == str:\n",
    "        bycols = [bycols]\n",
    "\n",
    "    if type(agg_map) == dict:\n",
    "        agg_map = agg_map.items()\n",
    "\n",
    "    for k,v in agg_map:\n",
    "        grp = df[bycols + [k]].groupby(bycols, ).agg(v)\n",
    "        grp.reset_index(inplace=True)\n",
    "        grp[\"%s(%s)\" % (v,k)] = grp[k]\n",
    "        del grp[k]\n",
    "        grps.append(grp)\n",
    "\n",
    "    m = grps[0]\n",
    "    for grp in grps[1:]:\n",
    "        m = pd.merge(m, grp, on=bycols, how=\"inner\")\n",
    "    return m"
   ]
  },
  {
   "cell_type": "code",
   "execution_count": 4,
   "metadata": {
    "collapsed": true
   },
   "outputs": [],
   "source": [
    "from bson.son import SON # needed to ensure dictionary is ordered (python default is not)\n",
    "import hashlib\n",
    "\n",
    "def hash_feats(fts):\n",
    "    vals = fts.values\n",
    "    joined = \"|\".join(map(lambda s: str(s),vals)).encode('utf-8') \n",
    "    return hashlib.sha224(joined).hexdigest()\n",
    "\n",
    "def get_df_sorted_by_f1score(collection, params=None, filter_cols=True):\n",
    "    if not params:\n",
    "        params = []\n",
    "    if type(params) == str:\n",
    "        params = params.split(\",\")\n",
    "    \n",
    "    project = {\n",
    "            \"weighted_f1_score\":\"$WEIGHTED_MEAN_CONCEPT_CODES.f1_score\",\n",
    "            \"macro_f1_score\":   \"$MACRO_F1\",\n",
    "            \"micro_f1_score\":  \"$MICRO_F1.f1_score\",\n",
    "            \"micro_recall\":    \"$MICRO_F1.recall\",\n",
    "            \"micro_precision\": \"$MICRO_F1.precision\",\n",
    "    \n",
    "    # PARAMETERS            \n",
    "            \"window_size\":    \"$parameters.window_size\",\n",
    "            \"feats\":          \"$parameters.extractors\",\n",
    "            \"count\": {        \"$size\" : \"$parameters.extractors\" },\n",
    "            \"asof\" :          \"$asof\",\n",
    "            \"_id\":1\n",
    "    }\n",
    "    \n",
    "    # No count for HMM\n",
    "    if \"_hmm\" in collection.lower():\n",
    "        del project[\"count\"]\n",
    "    \n",
    "    for param in params:\n",
    "        project[param] = \"$parameters.\" + param\n",
    "\n",
    "    feats_pipeline = [{\n",
    "        \"$project\": project\n",
    "    },\n",
    "    {\n",
    "        \"$match\":{\n",
    "            \"micro_f1_score\": { \"$exists\" : True }        \n",
    "        }\n",
    "    },\n",
    "    {\n",
    "        \"$sort\":{\n",
    "            \"micro_f1_score\": -1\n",
    "        }\n",
    "    },\n",
    "    ]\n",
    "    \n",
    "    rows = [row for row in db[collection].aggregate(feats_pipeline)]\n",
    "    df = pd.DataFrame(rows).sort_values(\"micro_f1_score\", ascending=False)\n",
    "    if params:\n",
    "        df[\"hs_params\"] = df[params].apply(hash_feats, axis=1)\n",
    "        \n",
    "    if filter_cols:\n",
    "        cols = [\"micro_f1_score\", \"micro_recall\" ,\"micro_precision\", \"macro_f1_score\" ] + params\n",
    "        return df[cols]\n",
    "    return df"
   ]
  },
  {
   "cell_type": "code",
   "execution_count": 5,
   "metadata": {
    "collapsed": true
   },
   "outputs": [],
   "source": [
    "def get_window_classifier_results(prefix):\n",
    "    collections = \"WINDOW_CLASSIFIER_BR,WINDOW_CLASSIFIER_LBL_POWERSET_MULTICLASS,WINDOW_CLASSIFIER_MOST_COMMON_TAG_MULTICLASS\".split(\",\")\n",
    "    dfs = []\n",
    "    for c in collections:\n",
    "        col = prefix + c\n",
    "        print(col)\n",
    "        df = dict(get_df_sorted_by_f1score(col).iloc[0,:])\n",
    "        df[\"Collection_\" + prefix[:-1]] = col.replace(prefix,\"\")\n",
    "        dfs.append(df)\n",
    "    return pd.DataFrame(dfs).sort_values(\"micro_f1_score\", ascending=False)"
   ]
  },
  {
   "cell_type": "code",
   "execution_count": 6,
   "metadata": {
    "collapsed": true
   },
   "outputs": [],
   "source": [
    "def round_data(df, places=3):\n",
    "    df_copy = df.copy()\n",
    "    fmt_str = \"{0:.\" + str(places) + \"f}\"\n",
    "    cols = set([v for v in df_copy.columns.values if \"micro_\" in v])\n",
    "    for c in cols:\n",
    "        df_copy[c] = df[c].apply(lambda d: fmt_str.format(d))  \n",
    "    return df_copy"
   ]
  },
  {
   "cell_type": "markdown",
   "metadata": {},
   "source": [
    "## Generate Per Class Metrics"
   ]
  },
  {
   "cell_type": "code",
   "execution_count": 7,
   "metadata": {
    "collapsed": true
   },
   "outputs": [],
   "source": [
    "def get_algo_name(coll):\n",
    "    if \"WINDOW\" in coll:\n",
    "        return \"Window-Based Tagger\"\n",
    "    if \"CRF\" in coll:\n",
    "        return \"CRF\"\n",
    "    if \"HMM\" in coll:\n",
    "        return \"HMM\"\n",
    "    if \"PERCEPTRON\" in coll:\n",
    "        return \"Structured Perceptron\"\n",
    "    if \"RNN\" in coll:\n",
    "        return \"Bidirectional RNN\""
   ]
  },
  {
   "cell_type": "code",
   "execution_count": 8,
   "metadata": {},
   "outputs": [
    {
     "data": {
      "text/plain": [
       "Metric(code='50', f1=0.99, prec=0.98, rec=0.97)"
      ]
     },
     "execution_count": 8,
     "metadata": {},
     "output_type": "execute_result"
    }
   ],
   "source": [
    "from collections import namedtuple\n",
    "\n",
    "Metric = namedtuple(\"Metric\", \"code f1 prec rec\")\n",
    "Metric(code=\"50\", f1=0.99, prec=0.98, rec=0.97)"
   ]
  },
  {
   "cell_type": "code",
   "execution_count": 18,
   "metadata": {},
   "outputs": [],
   "source": [
    "def sort_key(metric):\n",
    "    code = metric.code\n",
    "    if \"b\" in code:\n",
    "        code = code.replace(\"b\", \".1\")\n",
    "    return float(code)\n",
    "\n",
    "def compute_metrics_by_class(coll):\n",
    "    print(coll)\n",
    "    print(\"code\\t\\tf1\\trec\\tprec\")\n",
    "    for row in db[coll].find({}):\n",
    "        keys = []        \n",
    "\n",
    "        metrics = []\n",
    "        for k in row.keys():\n",
    "            if k[0].isdigit():\n",
    "                keys.append(k)\n",
    "                code, f1, prec, rec = k, row[k][\"f1_score\"], row[k][\"precision\"], row[k][\"recall\"]\n",
    "                metric = Metric(code=code, f1=f1, prec=prec, rec=rec)\n",
    "                metrics.append(metric)\n",
    "        \n",
    "        for metric in sorted(metrics, key = sort_key):\n",
    "            print(\"{code}\\t{f1:.4f}\\t{rec:.4f}\\t{prec:.4f}\".format(code=metric.code.ljust(10), f1=metric.f1, prec=metric.prec, rec=metric.rec))\n",
    "\n",
    "        print(\"\\n\" + \",\".join(sorted(keys)))\n",
    "        print(\"\")"
   ]
  },
  {
   "cell_type": "code",
   "execution_count": 21,
   "metadata": {},
   "outputs": [
    {
     "name": "stdout",
     "output_type": "stream",
     "text": [
      "Window-Based Tagger\n",
      "TEST_CB_TAGGING_VD_WINDOW_CLASSIFIER_MOST_COMMON_TAG_MULTICLASS\n",
      "code\t\tf1\trec\tprec\n",
      "1         \t0.8260\t0.7960\t0.8584\n",
      "2         \t0.7399\t0.6871\t0.8016\n",
      "3         \t0.8274\t0.7814\t0.8792\n",
      "4         \t0.8318\t0.8193\t0.8447\n",
      "5         \t0.4490\t0.3113\t0.8049\n",
      "5b        \t0.0303\t0.0227\t0.0455\n",
      "6         \t0.8357\t0.8018\t0.8725\n",
      "7         \t0.8381\t0.7598\t0.9344\n",
      "11        \t0.8995\t0.8775\t0.9227\n",
      "12        \t0.8629\t0.7798\t0.9659\n",
      "13        \t0.7340\t0.6921\t0.7814\n",
      "14        \t0.7484\t0.7437\t0.7532\n",
      "50        \t0.9041\t0.8803\t0.9293\n",
      "\n",
      "1,11,12,13,14,2,3,4,5,50,5b,6,7\n",
      "\n",
      "\n",
      "CRF\n",
      "TEST_CB_TAGGING_VD_CRF_MOST_COMMON_TAG_FIXED\n",
      "code\t\tf1\trec\tprec\n",
      "1         \t0.8365\t0.8007\t0.8756\n",
      "2         \t0.7622\t0.7415\t0.7842\n",
      "3         \t0.8197\t0.7737\t0.8715\n",
      "4         \t0.7934\t0.7922\t0.7946\n",
      "5         \t0.3188\t0.2075\t0.6875\n",
      "5b        \t0.0000\t0.0000\t0.0000\n",
      "6         \t0.8337\t0.7793\t0.8964\n",
      "7         \t0.8263\t0.7394\t0.9364\n",
      "11        \t0.9268\t0.9314\t0.9223\n",
      "12        \t0.8629\t0.7798\t0.9659\n",
      "13        \t0.7291\t0.6794\t0.7868\n",
      "14        \t0.7002\t0.6835\t0.7176\n",
      "50        \t0.9000\t0.8839\t0.9167\n",
      "\n",
      "1,11,12,13,14,2,3,4,5,50,5b,6,7\n",
      "\n",
      "\n",
      "HMM\n",
      "TEST_CB_TAGGING_VD_HMM_MOST_COMMON_TAG_MULTICLASS_FIXED\n",
      "code\t\tf1\trec\tprec\n",
      "1         \t0.7838\t0.8523\t0.7255\n",
      "2         \t0.4413\t0.8435\t0.2988\n",
      "3         \t0.7330\t0.7277\t0.7383\n",
      "4         \t0.7075\t0.7651\t0.6580\n",
      "5         \t0.1525\t0.2453\t0.1106\n",
      "5b        \t0.0730\t0.2955\t0.0417\n",
      "6         \t0.8208\t0.7838\t0.8614\n",
      "7         \t0.7311\t0.6531\t0.8303\n",
      "11        \t0.8692\t0.9118\t0.8304\n",
      "12        \t0.6984\t0.8073\t0.6154\n",
      "13        \t0.7022\t0.7937\t0.6297\n",
      "14        \t0.7148\t0.8766\t0.6035\n",
      "50        \t0.8713\t0.8644\t0.8784\n",
      "\n",
      "1,11,12,13,14,2,3,4,5,50,5b,6,7\n",
      "\n",
      "\n",
      "Structured Perceptron\n",
      "TEST_CB_TAGGING_VD_AVG_PERCEPTRON_MOST_COMMON_TAG\n",
      "code\t\tf1\trec\tprec\n",
      "1         \t0.8391\t0.8195\t0.8598\n",
      "2         \t0.7826\t0.7347\t0.8372\n",
      "3         \t0.8085\t0.7507\t0.8758\n",
      "4         \t0.8265\t0.8253\t0.8278\n",
      "5         \t0.4459\t0.3302\t0.6863\n",
      "5b        \t0.0313\t0.0227\t0.0500\n",
      "6         \t0.8357\t0.8018\t0.8725\n",
      "7         \t0.8199\t0.7253\t0.9429\n",
      "11        \t0.8933\t0.8824\t0.9045\n",
      "12        \t0.8824\t0.8257\t0.9474\n",
      "13        \t0.7165\t0.6540\t0.7923\n",
      "14        \t0.7307\t0.7342\t0.7273\n",
      "50        \t0.9015\t0.8709\t0.9343\n",
      "\n",
      "1,11,12,13,14,2,3,4,5,50,5b,6,7\n",
      "\n",
      "\n",
      "Bidirectional RNN\n",
      "TEST_CB_TAGGING_VD_RNN_MOST_COMMON_TAG\n",
      "code\t\tf1\trec\tprec\n",
      "1         \t0.8185\t0.8593\t0.7814\n",
      "2         \t0.7122\t0.6735\t0.7557\n",
      "3         \t0.8273\t0.7737\t0.8888\n",
      "4         \t0.8453\t0.8886\t0.8060\n",
      "5         \t0.5868\t0.6698\t0.5221\n",
      "5b        \t0.3077\t0.2727\t0.3529\n",
      "6         \t0.8325\t0.7838\t0.8878\n",
      "7         \t0.8397\t0.7645\t0.9312\n",
      "11        \t0.9086\t0.9020\t0.9154\n",
      "12        \t0.9390\t0.9174\t0.9615\n",
      "13        \t0.7528\t0.7397\t0.7664\n",
      "14        \t0.6870\t0.6772\t0.6971\n",
      "50        \t0.9078\t0.9034\t0.9123\n",
      "\n",
      "1,11,12,13,14,2,3,4,5,50,5b,6,7\n",
      "\n",
      "\n"
     ]
    }
   ],
   "source": [
    "for collection in \"TEST_CB_TAGGING_VD_WINDOW_CLASSIFIER_MOST_COMMON_TAG_MULTICLASS,TEST_CB_TAGGING_VD_CRF_MOST_COMMON_TAG_FIXED,TEST_CB_TAGGING_VD_HMM_MOST_COMMON_TAG_MULTICLASS_FIXED,TEST_CB_TAGGING_VD_AVG_PERCEPTRON_MOST_COMMON_TAG,TEST_CB_TAGGING_VD_RNN_MOST_COMMON_TAG\".split(\",\"):\n",
    "\n",
    "    #collection = collection.replace(\"CB\",\"SC\")\n",
    "    print(get_algo_name(collection))\n",
    "    compute_metrics_by_class(collection)\n",
    "    print(\"\")"
   ]
  },
  {
   "cell_type": "code",
   "execution_count": null,
   "metadata": {
    "collapsed": true
   },
   "outputs": [],
   "source": []
  }
 ],
 "metadata": {
  "anaconda-cloud": {},
  "kernelspec": {
   "display_name": "Python [default]",
   "language": "python",
   "name": "python3"
  },
  "language_info": {
   "codemirror_mode": {
    "name": "ipython",
    "version": 3
   },
   "file_extension": ".py",
   "mimetype": "text/x-python",
   "name": "python",
   "nbconvert_exporter": "python",
   "pygments_lexer": "ipython3",
   "version": "3.6.1"
  }
 },
 "nbformat": 4,
 "nbformat_minor": 2
}
