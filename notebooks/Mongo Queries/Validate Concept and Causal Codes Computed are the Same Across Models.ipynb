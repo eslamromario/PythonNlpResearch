{
 "cells": [
  {
   "cell_type": "code",
   "execution_count": 1,
   "metadata": {
    "collapsed": true
   },
   "outputs": [],
   "source": [
    "%matplotlib inline\n",
    "import numpy as np\n",
    "import pandas as pd\n",
    "#import seaborn as sns\n",
    "import pymongo\n",
    "from pprint import pprint"
   ]
  },
  {
   "cell_type": "code",
   "execution_count": 2,
   "metadata": {
    "collapsed": true
   },
   "outputs": [],
   "source": [
    "client = pymongo.MongoClient()\n",
    "db = client.metrics_causal"
   ]
  },
  {
   "cell_type": "markdown",
   "metadata": {},
   "source": [
    "### What Experiments Do We Currently Have Data For?"
   ]
  },
  {
   "cell_type": "markdown",
   "metadata": {},
   "source": [
    "#### CB"
   ]
  },
  {
   "cell_type": "code",
   "execution_count": 3,
   "metadata": {},
   "outputs": [
    {
     "data": {
      "text/plain": [
       "['CR_CB_SHIFT_REDUCE_PARSER_TEMPLATED_FEATURE_SEL_VD',\n",
       " 'CR_CB_SHIFT_REDUCE_PARSER_TEMPLATED_VD',\n",
       " 'CR_CB_STACKED_VD',\n",
       " 'CR_CB_TAGGING_VD_MOST_COMMON_TAG_RNN']"
      ]
     },
     "execution_count": 3,
     "metadata": {},
     "output_type": "execute_result"
    }
   ],
   "source": [
    "cb_collections = \\\n",
    "[str(col)\n",
    " for col \n",
    " in sorted(db.collection_names())\n",
    " if \n",
    "     \"CB_\" in col and \n",
    "     \"CR_\" in col and \n",
    "     \"VD\" in col and\n",
    "     \"TEST\" not in col and \n",
    "     \"invalid\" not in col.lower() and\n",
    " 1==1]\n",
    "cb_collections"
   ]
  },
  {
   "cell_type": "code",
   "execution_count": 4,
   "metadata": {},
   "outputs": [
    {
     "data": {
      "text/plain": [
       "['TEST_CR_CB_STACKED_TD',\n",
       " 'TEST_CR_CB_STACKED_VD',\n",
       " 'TEST_CR_CB_TAGGING_TD_MOST_COMMON_TAG_RNN',\n",
       " 'TEST_CR_CB_TAGGING_VD_MOST_COMMON_TAG_RNN']"
      ]
     },
     "execution_count": 4,
     "metadata": {},
     "output_type": "execute_result"
    }
   ],
   "source": [
    "cb_collections_test = \\\n",
    "[str(col)\n",
    " for col \n",
    " in sorted(db.collection_names())\n",
    " if \n",
    "     \"CB_\" in col and \n",
    "     \"CR_\" in col and \n",
    "     #\"TD\" not in col and    \n",
    "     #\"VD\" not in col and\n",
    "     \"TEST\" in col and \n",
    "     \"invalid\" not in col.lower() and\n",
    " 1==1]\n",
    "cb_collections_test"
   ]
  },
  {
   "cell_type": "markdown",
   "metadata": {},
   "source": [
    "[str(col)\n",
    " for col \n",
    " in sorted(db.collection_names())\n",
    " if \n",
    "     \"CB_\" in col and \n",
    "     \"CR_\" in col and \n",
    "     \"VD\" in col and\n",
    "     \"TEST\" in col and \n",
    " 1==1]"
   ]
  },
  {
   "cell_type": "markdown",
   "metadata": {},
   "source": [
    "#### SC"
   ]
  },
  {
   "cell_type": "code",
   "execution_count": 5,
   "metadata": {},
   "outputs": [
    {
     "data": {
      "text/plain": [
       "['CR_SC_STACKED_VD', 'CR_SC_TAGGING_VD_MOST_COMMON_TAG_RNN']"
      ]
     },
     "execution_count": 5,
     "metadata": {},
     "output_type": "execute_result"
    }
   ],
   "source": [
    "sc_collections = \\\n",
    "[str(col)\n",
    " for col \n",
    " in sorted(db.collection_names())\n",
    " if \n",
    "     \"SC_\" in col and \n",
    "     \"CR_\" in col and \n",
    "     \"VD\" in col and\n",
    "     \"TEST\" not in col and \n",
    "     \"invalid\" not in col.lower() and\n",
    " 1==1]\n",
    "sc_collections"
   ]
  },
  {
   "cell_type": "code",
   "execution_count": 6,
   "metadata": {},
   "outputs": [
    {
     "data": {
      "text/plain": [
       "['TEST_CR_SC_STACKED_TD',\n",
       " 'TEST_CR_SC_STACKED_VD',\n",
       " 'TEST_CR_SC_TAGGING_TD_MOST_COMMON_TAG_RNN',\n",
       " 'TEST_CR_SC_TAGGING_VD_MOST_COMMON_TAG_RNN']"
      ]
     },
     "execution_count": 6,
     "metadata": {},
     "output_type": "execute_result"
    }
   ],
   "source": [
    "sc_collections_test = \\\n",
    "[str(col)\n",
    " for col \n",
    " in sorted(db.collection_names())\n",
    " if \n",
    "     \"SC_\" in col and \n",
    "     \"CR_\" in col and \n",
    "     \"TEST\" in col and \n",
    "     \"invalid\" not in col.lower() and\n",
    " 1==1]\n",
    "sc_collections_test"
   ]
  },
  {
   "cell_type": "markdown",
   "metadata": {},
   "source": [
    "#### - The 'Stacked' and 'Most Common Tag' Are the Initial 2 Model Types (Tagging without Most Common was a Quick Experiment)"
   ]
  },
  {
   "cell_type": "code",
   "execution_count": 7,
   "metadata": {
    "collapsed": true
   },
   "outputs": [],
   "source": [
    "def compute_count_codes(row):\n",
    "\n",
    "    keys = []\n",
    "    unique = set()\n",
    "    for k in row.keys():        \n",
    "        if \"->\" in k: #k[0].isdigit():\n",
    "            keys.append(k)\n",
    "            unique.add(k)\n",
    "    assert len(keys) == len(unique), \"Duplicate keys found\"\n",
    "    return unique"
   ]
  },
  {
   "cell_type": "code",
   "execution_count": 8,
   "metadata": {},
   "outputs": [
    {
     "data": {
      "text/plain": [
       "['CR_SC_STACKED_VD', 'CR_SC_TAGGING_VD_MOST_COMMON_TAG_RNN']"
      ]
     },
     "execution_count": 8,
     "metadata": {},
     "output_type": "execute_result"
    }
   ],
   "source": [
    "sc_collections"
   ]
  },
  {
   "cell_type": "code",
   "execution_count": 9,
   "metadata": {},
   "outputs": [],
   "source": [
    "def validate_collection(collection):\n",
    "    \n",
    "    col2codes = {}\n",
    "    print(\"Rows by Collection:\")\n",
    "    for col in collection:\n",
    "        cursor = db[col].find({})\n",
    "        print(col, cursor.count())\n",
    "        first_row_codes = None\n",
    "        for row in cursor:\n",
    "            codes = compute_count_codes(row)\n",
    "            if not first_row_codes:\n",
    "                first_row_codes = set(codes)\n",
    "                col2codes[col] = codes\n",
    "            else:            \n",
    "                assert first_row_codes == codes, \"Different codes computed across different runs\"\n",
    "\n",
    "    print(\"\\nCodes by Collection:\")\n",
    "    for col,codes in col2codes.items():\n",
    "        print(col, len(codes))\n",
    "\n",
    "    print(\"\\nDifferent Counts:\")\n",
    "    for col, codes in col2codes.items():\n",
    "        for col2, codes2 in col2codes.items():\n",
    "            if col >= col2:\n",
    "                continue\n",
    "\n",
    "            if codes != codes2:\n",
    "                diff_left  = codes - codes2\n",
    "                diff_right = codes2 - codes\n",
    "\n",
    "                print(\"Different codes computed for collections: 1: {col1} [{count_1}] and 2: {col2} [{count_2}]\"\\\n",
    "                      .format(col1=col, count_1=len(codes), col2=col2, count_2=len(codes2)))\n",
    "\n",
    "                print(\"Left Count: {lc} Right Count: {rc}\".format(lc=len(diff_left), rc=len(diff_right)))\n",
    "                print(\"\\tLEFT:  {left}\\n\\tRIGHT: {right}\".format(left=\"\\t\".join(diff_left), right=\"\\t\".join(diff_right)))\n",
    "                print(\"\")"
   ]
  },
  {
   "cell_type": "code",
   "execution_count": 10,
   "metadata": {},
   "outputs": [
    {
     "name": "stdout",
     "output_type": "stream",
     "text": [
      "Rows by Collection:\n",
      "CR_CB_SHIFT_REDUCE_PARSER_TEMPLATED_FEATURE_SEL_VD 124\n",
      "CR_CB_SHIFT_REDUCE_PARSER_TEMPLATED_VD 1\n",
      "CR_CB_STACKED_VD 49\n",
      "CR_CB_TAGGING_VD_MOST_COMMON_TAG_RNN 6\n",
      "\n",
      "Codes by Collection:\n",
      "CR_CB_SHIFT_REDUCE_PARSER_TEMPLATED_FEATURE_SEL_VD 86\n",
      "CR_CB_SHIFT_REDUCE_PARSER_TEMPLATED_VD 86\n",
      "CR_CB_STACKED_VD 86\n",
      "CR_CB_TAGGING_VD_MOST_COMMON_TAG_RNN 86\n",
      "\n",
      "Different Counts:\n"
     ]
    }
   ],
   "source": [
    "validate_collection(cb_collections)"
   ]
  },
  {
   "cell_type": "code",
   "execution_count": 11,
   "metadata": {},
   "outputs": [
    {
     "name": "stdout",
     "output_type": "stream",
     "text": [
      "Rows by Collection:\n",
      "TEST_CR_CB_STACKED_TD 1\n",
      "TEST_CR_CB_STACKED_VD 1\n",
      "TEST_CR_CB_TAGGING_TD_MOST_COMMON_TAG_RNN 1\n",
      "TEST_CR_CB_TAGGING_VD_MOST_COMMON_TAG_RNN 1\n",
      "\n",
      "Codes by Collection:\n",
      "TEST_CR_CB_STACKED_TD 86\n",
      "TEST_CR_CB_STACKED_VD 86\n",
      "TEST_CR_CB_TAGGING_TD_MOST_COMMON_TAG_RNN 86\n",
      "TEST_CR_CB_TAGGING_VD_MOST_COMMON_TAG_RNN 86\n",
      "\n",
      "Different Counts:\n"
     ]
    }
   ],
   "source": [
    "validate_collection(cb_collections_test)"
   ]
  },
  {
   "cell_type": "code",
   "execution_count": 12,
   "metadata": {},
   "outputs": [],
   "source": [
    "#Train and Validation Counts should match\n",
    "#CB_COLLECTION_TD = [col.replace(\"VD\",\"TD\") for col in CB_COLLECTION]\n",
    "#validate_collection(CB_COLLECTION_TD)"
   ]
  },
  {
   "cell_type": "code",
   "execution_count": 13,
   "metadata": {},
   "outputs": [
    {
     "name": "stdout",
     "output_type": "stream",
     "text": [
      "Rows by Collection:\n",
      "CR_SC_STACKED_VD 49\n",
      "CR_SC_TAGGING_VD_MOST_COMMON_TAG_RNN 6\n",
      "\n",
      "Codes by Collection:\n",
      "CR_SC_STACKED_VD 49\n",
      "CR_SC_TAGGING_VD_MOST_COMMON_TAG_RNN 49\n",
      "\n",
      "Different Counts:\n"
     ]
    }
   ],
   "source": [
    "validate_collection(sc_collections)"
   ]
  },
  {
   "cell_type": "code",
   "execution_count": 14,
   "metadata": {},
   "outputs": [
    {
     "name": "stdout",
     "output_type": "stream",
     "text": [
      "Rows by Collection:\n",
      "TEST_CR_SC_STACKED_TD 1\n",
      "TEST_CR_SC_STACKED_VD 1\n",
      "TEST_CR_SC_TAGGING_TD_MOST_COMMON_TAG_RNN 1\n",
      "TEST_CR_SC_TAGGING_VD_MOST_COMMON_TAG_RNN 1\n",
      "\n",
      "Codes by Collection:\n",
      "TEST_CR_SC_STACKED_TD 49\n",
      "TEST_CR_SC_STACKED_VD 49\n",
      "TEST_CR_SC_TAGGING_TD_MOST_COMMON_TAG_RNN 49\n",
      "TEST_CR_SC_TAGGING_VD_MOST_COMMON_TAG_RNN 49\n",
      "\n",
      "Different Counts:\n"
     ]
    }
   ],
   "source": [
    "validate_collection(sc_collections_test)"
   ]
  },
  {
   "cell_type": "code",
   "execution_count": null,
   "metadata": {
    "collapsed": true
   },
   "outputs": [],
   "source": []
  }
 ],
 "metadata": {
  "anaconda-cloud": {},
  "kernelspec": {
   "display_name": "Python [default]",
   "language": "python",
   "name": "python3"
  },
  "language_info": {
   "codemirror_mode": {
    "name": "ipython",
    "version": 3
   },
   "file_extension": ".py",
   "mimetype": "text/x-python",
   "name": "python",
   "nbconvert_exporter": "python",
   "pygments_lexer": "ipython3",
   "version": "3.6.1"
  }
 },
 "nbformat": 4,
 "nbformat_minor": 2
}
