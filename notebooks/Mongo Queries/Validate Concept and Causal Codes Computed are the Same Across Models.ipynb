{
 "cells": [
  {
   "cell_type": "code",
   "execution_count": 1,
   "metadata": {
    "collapsed": true,
    "deletable": true,
    "editable": true
   },
   "outputs": [],
   "source": [
    "%matplotlib inline\n",
    "import numpy as np\n",
    "import pandas as pd\n",
    "#import seaborn as sns\n",
    "import pymongo\n",
    "from pprint import pprint"
   ]
  },
  {
   "cell_type": "code",
   "execution_count": 2,
   "metadata": {
    "collapsed": true,
    "deletable": true,
    "editable": true
   },
   "outputs": [],
   "source": [
    "client = pymongo.MongoClient()\n",
    "db = client.metrics"
   ]
  },
  {
   "cell_type": "markdown",
   "metadata": {
    "deletable": true,
    "editable": true
   },
   "source": [
    "### What Experiments Do We Currently Have Data For?"
   ]
  },
  {
   "cell_type": "markdown",
   "metadata": {
    "deletable": true,
    "editable": true
   },
   "source": [
    "#### CB"
   ]
  },
  {
   "cell_type": "code",
   "execution_count": 4,
   "metadata": {
    "collapsed": false,
    "deletable": true,
    "editable": true
   },
   "outputs": [
    {
     "data": {
      "text/plain": [
       "['CR_CB_SHIFT_REDUCE_PARSER_TEMPLATED_VD',\n",
       " 'CR_CB_SHIFT_REDUCE_PARSER_VD',\n",
       " 'CR_CB_STACKED_VD-Faulty-IncludesTestCRels',\n",
       " 'CR_CB_TAGGING_VD_MOST_COMMON_TAG_RNN',\n",
       " 'CR_CB_TAGGING_VD_RNN']"
      ]
     },
     "execution_count": 4,
     "metadata": {},
     "output_type": "execute_result"
    }
   ],
   "source": [
    "cb_collections = \\\n",
    "[str(col)\n",
    " for col \n",
    " in sorted(db.collection_names())\n",
    " if \n",
    "     \"CB_\" in col and \n",
    "     \"CR_\" in col and \n",
    "     \"VD\" in col and\n",
    "     \"TEST\" not in col and \n",
    " 1==1]\n",
    "cb_collections"
   ]
  },
  {
   "cell_type": "markdown",
   "metadata": {
    "deletable": true,
    "editable": true
   },
   "source": [
    "[str(col)\n",
    " for col \n",
    " in sorted(db.collection_names())\n",
    " if \n",
    "     \"CB_\" in col and \n",
    "     \"CR_\" in col and \n",
    "     \"VD\" in col and\n",
    "     \"TEST\" in col and \n",
    " 1==1]"
   ]
  },
  {
   "cell_type": "markdown",
   "metadata": {
    "deletable": true,
    "editable": true
   },
   "source": [
    "#### SC"
   ]
  },
  {
   "cell_type": "code",
   "execution_count": 5,
   "metadata": {
    "collapsed": false,
    "deletable": true,
    "editable": true
   },
   "outputs": [
    {
     "data": {
      "text/plain": [
       "['CR_SC_STACKED_VD-Faulty-IncludesTestCRels',\n",
       " 'CR_SC_TAGGING_VD_MOST_COMMON_TAG_RNN']"
      ]
     },
     "execution_count": 5,
     "metadata": {},
     "output_type": "execute_result"
    }
   ],
   "source": [
    "sc_collections = \\\n",
    "[str(col)\n",
    " for col \n",
    " in sorted(db.collection_names())\n",
    " if \n",
    "     \"SC_\" in col and \n",
    "     \"CR_\" in col and \n",
    "     \"VD\" in col and\n",
    "     \"TEST\" not in col and \n",
    " 1==1]\n",
    "sc_collections"
   ]
  },
  {
   "cell_type": "markdown",
   "metadata": {
    "deletable": true,
    "editable": true
   },
   "source": [
    "#### - The 'Stacked' and 'Most Common Tag' Are the Initial 2 Model Types (Tagging without Most Common was a Quick Experiment)"
   ]
  },
  {
   "cell_type": "code",
   "execution_count": 6,
   "metadata": {
    "collapsed": true,
    "deletable": true,
    "editable": true
   },
   "outputs": [],
   "source": [
    "def compute_count_codes(row):\n",
    "\n",
    "    keys = []\n",
    "    unique = set()\n",
    "    for k in row.keys():        \n",
    "        if \"->\" in k: #k[0].isdigit():\n",
    "            keys.append(k)\n",
    "            unique.add(k)\n",
    "    assert len(keys) == len(unique), \"Duplicate keys found\"\n",
    "    return unique"
   ]
  },
  {
   "cell_type": "code",
   "execution_count": 7,
   "metadata": {
    "collapsed": false,
    "deletable": true,
    "editable": true
   },
   "outputs": [
    {
     "data": {
      "text/plain": [
       "['CR_SC_STACKED_VD-Faulty-IncludesTestCRels',\n",
       " 'CR_SC_TAGGING_VD_MOST_COMMON_TAG_RNN']"
      ]
     },
     "execution_count": 7,
     "metadata": {},
     "output_type": "execute_result"
    }
   ],
   "source": [
    "sc_collections"
   ]
  },
  {
   "cell_type": "code",
   "execution_count": 10,
   "metadata": {
    "collapsed": false,
    "deletable": true,
    "editable": true
   },
   "outputs": [
    {
     "name": "stdout",
     "output_type": "stream",
     "text": [
      "CR_CB_SHIFT_REDUCE_PARSER_TEMPLATED_VD 1\n",
      "CR_CB_SHIFT_REDUCE_PARSER_VD 6\n",
      "CR_CB_STACKED_VD-Faulty-IncludesTestCRels 49\n",
      "CR_CB_TAGGING_VD_MOST_COMMON_TAG_RNN 6\n",
      "CR_CB_TAGGING_VD_RNN 6\n",
      "\n",
      "CR_CB_STACKED_VD-Faulty-IncludesTestCRels 88\n",
      "CR_CB_SHIFT_REDUCE_PARSER_TEMPLATED_VD 82\n",
      "CR_CB_SHIFT_REDUCE_PARSER_VD 82\n",
      "CR_CB_TAGGING_VD_RNN 82\n",
      "CR_CB_TAGGING_VD_MOST_COMMON_TAG_RNN 82\n",
      "\n",
      "Different codes computed for collections: 1: CR_CB_STACKED_VD-Faulty-IncludesTestCRels [88] and 2: CR_CB_TAGGING_VD_RNN [82]\n",
      "Left Count: 6 Right Count: 0\n",
      "\tLEFT:  Causer:6->Result:5\tCauser:5->Result:11\tCauser:Change-factor->Result:50\tCauser:7->Result:1\tCauser:7->Result:13\tCauser:4->Result:Change-factor\n",
      "\tRIGHT: \n",
      "\n",
      "Different codes computed for collections: 1: CR_CB_STACKED_VD-Faulty-IncludesTestCRels [88] and 2: CR_CB_TAGGING_VD_MOST_COMMON_TAG_RNN [82]\n",
      "Left Count: 6 Right Count: 0\n",
      "\tLEFT:  Causer:6->Result:5\tCauser:5->Result:11\tCauser:Change-factor->Result:50\tCauser:7->Result:1\tCauser:7->Result:13\tCauser:4->Result:Change-factor\n",
      "\tRIGHT: \n",
      "\n",
      "Different codes computed for collections: 1: CR_CB_SHIFT_REDUCE_PARSER_TEMPLATED_VD [82] and 2: CR_CB_STACKED_VD-Faulty-IncludesTestCRels [88]\n",
      "Left Count: 0 Right Count: 6\n",
      "\tLEFT:  \n",
      "\tRIGHT: Causer:6->Result:5\tCauser:5->Result:11\tCauser:Change-factor->Result:50\tCauser:7->Result:1\tCauser:7->Result:13\tCauser:4->Result:Change-factor\n",
      "\n",
      "Different codes computed for collections: 1: CR_CB_SHIFT_REDUCE_PARSER_VD [82] and 2: CR_CB_STACKED_VD-Faulty-IncludesTestCRels [88]\n",
      "Left Count: 0 Right Count: 6\n",
      "\tLEFT:  \n",
      "\tRIGHT: Causer:6->Result:5\tCauser:5->Result:11\tCauser:Change-factor->Result:50\tCauser:7->Result:1\tCauser:7->Result:13\tCauser:4->Result:Change-factor\n",
      "\n"
     ]
    }
   ],
   "source": [
    "COLLECTION = [c for c in cb_collections] #if  1==1 or \"STACKED\" not in c]\n",
    "#COLLECTION = [c for c in sc_collections] #if  1==1 or \"STACKED\" not in c]\n",
    "\n",
    "col2codes = {}\n",
    "for col in COLLECTION:\n",
    "    cursor = db[col].find({})\n",
    "    print(col, cursor.count())\n",
    "    first_row_codes = None\n",
    "    for row in cursor:\n",
    "        codes = compute_count_codes(row)\n",
    "        if not first_row_codes:\n",
    "            first_row_codes = set(codes)\n",
    "            col2codes[col] = codes\n",
    "        else:            \n",
    "            assert first_row_codes == codes, \"Different codes computed across different runs\"\n",
    "\n",
    "print(\"\")\n",
    "for col,codes in col2codes.items():\n",
    "    print(col, len(codes))\n",
    "            \n",
    "print(\"\")\n",
    "for col, codes in col2codes.items():\n",
    "    for col2, codes2 in col2codes.items():\n",
    "        if col >= col2:\n",
    "            continue\n",
    "        \n",
    "        if codes != codes2:\n",
    "            diff_left  = codes - codes2\n",
    "            diff_right = codes2 - codes\n",
    "\n",
    "            print(\"Different codes computed for collections: 1: {col1} [{count_1}] and 2: {col2} [{count_2}]\"\\\n",
    "                  .format(col1=col, count_1=len(codes), col2=col2, count_2=len(codes2)))\n",
    "            \n",
    "            print(\"Left Count: {lc} Right Count: {rc}\".format(lc=len(diff_left), rc=len(diff_right)))\n",
    "            print(\"\\tLEFT:  {left}\\n\\tRIGHT: {right}\".format(left=\"\\t\".join(diff_left), right=\"\\t\".join(diff_right)))\n",
    "            print(\"\")"
   ]
  },
  {
   "cell_type": "code",
   "execution_count": null,
   "metadata": {
    "collapsed": true
   },
   "outputs": [],
   "source": []
  }
 ],
 "metadata": {
  "anaconda-cloud": {},
  "kernelspec": {
   "display_name": "Python 3",
   "language": "python",
   "name": "python3"
  },
  "language_info": {
   "codemirror_mode": {
    "name": "ipython",
    "version": 3
   },
   "file_extension": ".py",
   "mimetype": "text/x-python",
   "name": "python",
   "nbconvert_exporter": "python",
   "pygments_lexer": "ipython3",
   "version": "3.5.3"
  }
 },
 "nbformat": 4,
 "nbformat_minor": 2
}
