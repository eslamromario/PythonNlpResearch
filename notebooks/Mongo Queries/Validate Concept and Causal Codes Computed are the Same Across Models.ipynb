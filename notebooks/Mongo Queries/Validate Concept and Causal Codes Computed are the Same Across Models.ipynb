{
 "cells": [
  {
   "cell_type": "code",
   "execution_count": 1,
   "metadata": {},
   "outputs": [],
   "source": [
    "%matplotlib inline\n",
    "import numpy as np\n",
    "import pandas as pd\n",
    "#import seaborn as sns\n",
    "import pymongo\n",
    "from pprint import pprint"
   ]
  },
  {
   "cell_type": "code",
   "execution_count": 2,
   "metadata": {
    "collapsed": true
   },
   "outputs": [],
   "source": [
    "client = pymongo.MongoClient()\n",
    "db = client.metrics"
   ]
  },
  {
   "cell_type": "code",
   "execution_count": 4,
   "metadata": {
    "collapsed": true
   },
   "outputs": [],
   "source": [
    "from bson.son import SON # needed to ensure dictionary is ordered (python default is not)\n",
    "import hashlib\n",
    "\n",
    "def hash_feats(fts):\n",
    "    vals = fts.values\n",
    "    joined = \"|\".join(map(lambda s: str(s),vals)).encode('utf-8') \n",
    "    return hashlib.sha224(joined).hexdigest()\n",
    "\n",
    "def get_df_sorted_by_f1score(collection, params=None, filter_cols=True):\n",
    "    if not params:\n",
    "        params = []\n",
    "    if type(params) == str:\n",
    "        params = params.split(\",\")\n",
    "    \n",
    "    project = {\n",
    "            \"weighted_f1_score\":\"$WEIGHTED_MEAN_CONCEPT_CODES.f1_score\",\n",
    "            \"macro_f1_score\":   \"$MACRO_F1\",\n",
    "            \"micro_f1_score\":  \"$MICRO_F1.f1_score\",\n",
    "            \"micro_recall\":    \"$MICRO_F1.recall\",\n",
    "            \"micro_precision\": \"$MICRO_F1.precision\",\n",
    "    \n",
    "    # PARAMETERS            \n",
    "            \"window_size\":    \"$parameters.window_size\",\n",
    "            \"feats\":          \"$parameters.extractors\",\n",
    "            \"count\": {        \"$size\" : \"$parameters.extractors\" },\n",
    "            \"asof\" :          \"$asof\",\n",
    "            \"_id\":1\n",
    "    }\n",
    "    \n",
    "    # No count for HMM\n",
    "    if \"_hmm\" in collection.lower():\n",
    "        del project[\"count\"]\n",
    "    \n",
    "    for param in params:\n",
    "        project[param] = \"$parameters.\" + param\n",
    "\n",
    "    feats_pipeline = [{\n",
    "        \"$project\": project\n",
    "    },\n",
    "    {\n",
    "        \"$match\":{\n",
    "            \"micro_f1_score\": { \"$exists\" : True }        \n",
    "        }\n",
    "    },\n",
    "    {\n",
    "        \"$sort\":{\n",
    "            \"micro_f1_score\": -1\n",
    "        }\n",
    "    },\n",
    "    ]\n",
    "    \n",
    "    rows = [row for row in db[collection].aggregate(feats_pipeline)]\n",
    "    df = pd.DataFrame(rows).sort_values(\"micro_f1_score\", ascending=False)\n",
    "    if params:\n",
    "        df[\"hs_params\"] = df[params].apply(hash_feats, axis=1)\n",
    "        \n",
    "    if filter_cols:\n",
    "        cols = [\"micro_f1_score\", \"micro_recall\" ,\"micro_precision\", \"macro_f1_score\" ] + params\n",
    "        return df[cols]\n",
    "    return df"
   ]
  },
  {
   "cell_type": "code",
   "execution_count": 6,
   "metadata": {
    "collapsed": true
   },
   "outputs": [],
   "source": [
    "def round_data(df, places=3):\n",
    "    df_copy = df.copy()\n",
    "    fmt_str = \"{0:.\" + str(places) + \"f}\"\n",
    "    cols = set([v for v in df_copy.columns.values if \"micro_\" in v])\n",
    "    for c in cols:\n",
    "        df_copy[c] = df[c].apply(lambda d: fmt_str.format(d))  \n",
    "    return df_copy"
   ]
  },
  {
   "cell_type": "markdown",
   "metadata": {},
   "source": [
    "### What Experiments Do We Currently Have Data For?"
   ]
  },
  {
   "cell_type": "markdown",
   "metadata": {},
   "source": [
    "#### CB"
   ]
  },
  {
   "cell_type": "code",
   "execution_count": 85,
   "metadata": {},
   "outputs": [
    {
     "data": {
      "text/plain": [
       "['CR_CB_SHIFT_REDUCE_PARSER_TEMPLATED_VD',\n",
       " 'CR_CB_SHIFT_REDUCE_PARSER_VD',\n",
       " 'CR_CB_STACKED_VD',\n",
       " 'CR_CB_TAGGING_VD_MOST_COMMON_TAG_RNN',\n",
       " 'CR_CB_TAGGING_VD_RNN']"
      ]
     },
     "execution_count": 85,
     "metadata": {},
     "output_type": "execute_result"
    }
   ],
   "source": [
    "cb_collections = \\\n",
    "[str(col)\n",
    " for col \n",
    " in sorted(db.collection_names())\n",
    " if \n",
    "     \"CB_\" in col and \n",
    "     \"CR_\" in col and \n",
    "     \"VD\" in col and\n",
    "     \"TEST\" not in col and \n",
    " 1==1]\n",
    "cb_collections"
   ]
  },
  {
   "cell_type": "markdown",
   "metadata": {},
   "source": [
    "[str(col)\n",
    " for col \n",
    " in sorted(db.collection_names())\n",
    " if \n",
    "     \"CB_\" in col and \n",
    "     \"CR_\" in col and \n",
    "     \"VD\" in col and\n",
    "     \"TEST\" in col and \n",
    " 1==1]"
   ]
  },
  {
   "cell_type": "markdown",
   "metadata": {},
   "source": [
    "#### SC"
   ]
  },
  {
   "cell_type": "code",
   "execution_count": 86,
   "metadata": {},
   "outputs": [
    {
     "data": {
      "text/plain": [
       "['CR_SC_STACKED_VD', 'CR_SC_TAGGING_VD_MOST_COMMON_TAG_RNN']"
      ]
     },
     "execution_count": 86,
     "metadata": {},
     "output_type": "execute_result"
    }
   ],
   "source": [
    "sc_collections = \\\n",
    "[str(col)\n",
    " for col \n",
    " in sorted(db.collection_names())\n",
    " if \n",
    "     \"SC_\" in col and \n",
    "     \"CR_\" in col and \n",
    "     \"VD\" in col and\n",
    "     \"TEST\" not in col and \n",
    " 1==1]\n",
    "sc_collections"
   ]
  },
  {
   "cell_type": "markdown",
   "metadata": {},
   "source": [
    "#### - The 'Stacked' and 'Most Common Tag' Are the Initial 2 Model Types (Tagging without Most Common was a Quick Experiment)"
   ]
  },
  {
   "cell_type": "code",
   "execution_count": 52,
   "metadata": {
    "collapsed": true
   },
   "outputs": [],
   "source": [
    "def compute_count_codes(row):\n",
    "\n",
    "    keys = []\n",
    "    unique = set()\n",
    "    for k in row.keys():        \n",
    "        if \"->\" in k: #k[0].isdigit():\n",
    "            keys.append(k)\n",
    "            unique.add(k)\n",
    "    assert len(keys) == len(unique), \"Duplicate keys found\"\n",
    "    return unique"
   ]
  },
  {
   "cell_type": "code",
   "execution_count": 80,
   "metadata": {},
   "outputs": [
    {
     "data": {
      "text/plain": [
       "['CR_SC_STACKED_VD', 'CR_SC_TAGGING_VD_MOST_COMMON_TAG_RNN']"
      ]
     },
     "execution_count": 80,
     "metadata": {},
     "output_type": "execute_result"
    }
   ],
   "source": [
    "sc_collections"
   ]
  },
  {
   "cell_type": "code",
   "execution_count": 84,
   "metadata": {},
   "outputs": [
    {
     "name": "stdout",
     "output_type": "stream",
     "text": [
      "('CR_CB_SHIFT_REDUCE_PARSER_TEMPLATED_VD', 1)\n",
      "('CR_CB_SHIFT_REDUCE_PARSER_VD', 6)\n",
      "('CR_CB_STACKED_VD', 49)\n",
      "('CR_CB_TAGGING_VD_MOST_COMMON_TAG_RNN', 6)\n",
      "('CR_CB_TAGGING_VD_RNN', 6)\n",
      "\n",
      "('CR_CB_SHIFT_REDUCE_PARSER_TEMPLATED_VD', 82)\n",
      "('CR_CB_SHIFT_REDUCE_PARSER_VD', 82)\n",
      "('CR_CB_STACKED_VD', 88)\n",
      "('CR_CB_TAGGING_VD_MOST_COMMON_TAG_RNN', 82)\n",
      "('CR_CB_TAGGING_VD_RNN', 82)\n",
      "\n",
      "Different codes computed for collections: 1: CR_CB_SHIFT_REDUCE_PARSER_TEMPLATED_VD [82] and 2: CR_CB_STACKED_VD [88]\n",
      "Left Count: 0 Right Count: 6\n",
      "\tLEFT:  \n",
      "\tRIGHT: Causer:Change-factor->Result:50\tCauser:6->Result:5\tCauser:7->Result:13\tCauser:4->Result:Change-factor\tCauser:5->Result:11\tCauser:7->Result:1\n",
      "\n",
      "Different codes computed for collections: 1: CR_CB_SHIFT_REDUCE_PARSER_VD [82] and 2: CR_CB_STACKED_VD [88]\n",
      "Left Count: 0 Right Count: 6\n",
      "\tLEFT:  \n",
      "\tRIGHT: Causer:Change-factor->Result:50\tCauser:6->Result:5\tCauser:7->Result:13\tCauser:4->Result:Change-factor\tCauser:5->Result:11\tCauser:7->Result:1\n",
      "\n",
      "Different codes computed for collections: 1: CR_CB_STACKED_VD [88] and 2: CR_CB_TAGGING_VD_MOST_COMMON_TAG_RNN [82]\n",
      "Left Count: 6 Right Count: 0\n",
      "\tLEFT:  Causer:Change-factor->Result:50\tCauser:6->Result:5\tCauser:7->Result:13\tCauser:4->Result:Change-factor\tCauser:5->Result:11\tCauser:7->Result:1\n",
      "\tRIGHT: \n",
      "\n",
      "Different codes computed for collections: 1: CR_CB_STACKED_VD [88] and 2: CR_CB_TAGGING_VD_RNN [82]\n",
      "Left Count: 6 Right Count: 0\n",
      "\tLEFT:  Causer:Change-factor->Result:50\tCauser:6->Result:5\tCauser:7->Result:13\tCauser:4->Result:Change-factor\tCauser:5->Result:11\tCauser:7->Result:1\n",
      "\tRIGHT: \n",
      "\n"
     ]
    }
   ],
   "source": [
    "COLLECTION = [c for c in cb_collections] #if  1==1 or \"STACKED\" not in c]\n",
    "\n",
    "col2codes = {}\n",
    "for col in COLLECTION:\n",
    "    cursor = db[col].find({})\n",
    "    print(col, cursor.count())\n",
    "    first_row_codes = None\n",
    "    for row in cursor:\n",
    "        codes = compute_count_codes(row)\n",
    "        if not first_row_codes:\n",
    "            first_row_codes = set(codes)\n",
    "            col2codes[col] = codes\n",
    "        else:            \n",
    "            assert first_row_codes == codes, \"Different codes computed across different runs\"\n",
    "\n",
    "print(\"\")\n",
    "for col,codes in col2codes.items():\n",
    "    print(col, len(codes))\n",
    "            \n",
    "print(\"\")\n",
    "for col, codes in col2codes.items():\n",
    "    for col2, codes2 in col2codes.items():\n",
    "        if col >= col2:\n",
    "            continue\n",
    "        \n",
    "        if codes != codes2:\n",
    "            diff_left  = codes - codes2\n",
    "            diff_right = codes2 - codes\n",
    "\n",
    "            print(\"Different codes computed for collections: 1: {col1} [{count_1}] and 2: {col2} [{count_2}]\"\\\n",
    "                  .format(col1=col, count_1=len(codes), col2=col2, count_2=len(codes2)))\n",
    "            \n",
    "            print(\"Left Count: {lc} Right Count: {rc}\".format(lc=len(diff_left), rc=len(diff_right)))\n",
    "            print(\"\\tLEFT:  {left}\\n\\tRIGHT: {right}\".format(left=\"\\t\".join(diff_left), right=\"\\t\".join(diff_right)))\n",
    "            print(\"\")"
   ]
  },
  {
   "cell_type": "code",
   "execution_count": null,
   "metadata": {
    "collapsed": true
   },
   "outputs": [],
   "source": []
  }
 ],
 "metadata": {
  "anaconda-cloud": {},
  "kernelspec": {
   "display_name": "Python 2",
   "language": "python",
   "name": "python2"
  },
  "language_info": {
   "codemirror_mode": {
    "name": "ipython",
    "version": 2
   },
   "file_extension": ".py",
   "mimetype": "text/x-python",
   "name": "python",
   "nbconvert_exporter": "python",
   "pygments_lexer": "ipython2",
   "version": "2.7.13"
  }
 },
 "nbformat": 4,
 "nbformat_minor": 2
}
