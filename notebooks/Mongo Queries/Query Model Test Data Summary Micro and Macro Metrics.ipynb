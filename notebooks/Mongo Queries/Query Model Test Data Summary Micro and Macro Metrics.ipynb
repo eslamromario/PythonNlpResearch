{
 "cells": [
  {
   "cell_type": "code",
   "execution_count": 1,
   "metadata": {
    "collapsed": true
   },
   "outputs": [],
   "source": [
    "%matplotlib inline\n",
    "import numpy as np\n",
    "import pandas as pd\n",
    "#import seaborn as sns\n",
    "import pymongo\n",
    "from pprint import pprint"
   ]
  },
  {
   "cell_type": "code",
   "execution_count": 15,
   "metadata": {
    "collapsed": true
   },
   "outputs": [],
   "source": [
    "client = pymongo.MongoClient()\n",
    "db = client.metrics_codes"
   ]
  },
  {
   "cell_type": "code",
   "execution_count": 16,
   "metadata": {
    "collapsed": true
   },
   "outputs": [],
   "source": [
    "def group_by(df, bycols, agg_map):\n",
    "    \"\"\"\n",
    "\n",
    "    @param df:      DataFrame\n",
    "    @param bycols:  str or list\n",
    "                        Column(s) to group by\n",
    "    @param agg_map: dictionary or list of 2-tuples\n",
    "                        Mapping from column to aggregate function e.g. [(\"city\", \"count\"), (\"salary\", \"mean\"]\n",
    "    @return:        DataFrame\n",
    "                        Flattened dataframe, with multi-level index removed\n",
    "    \"\"\"\n",
    "    grps = []\n",
    "    if type(bycols) == str:\n",
    "        bycols = [bycols]\n",
    "\n",
    "    if type(agg_map) == dict:\n",
    "        agg_map = agg_map.items()\n",
    "\n",
    "    for k,v in agg_map:\n",
    "        grp = df[bycols + [k]].groupby(bycols, ).agg(v)\n",
    "        grp.reset_index(inplace=True)\n",
    "        grp[\"%s(%s)\" % (v,k)] = grp[k]\n",
    "        del grp[k]\n",
    "        grps.append(grp)\n",
    "\n",
    "    m = grps[0]\n",
    "    for grp in grps[1:]:\n",
    "        m = pd.merge(m, grp, on=bycols, how=\"inner\")\n",
    "    return m"
   ]
  },
  {
   "cell_type": "code",
   "execution_count": 17,
   "metadata": {
    "collapsed": true
   },
   "outputs": [],
   "source": [
    "from bson.son import SON # needed to ensure dictionary is ordered (python default is not)\n",
    "import hashlib\n",
    "\n",
    "def hash_feats(fts):\n",
    "    vals = fts.values\n",
    "    joined = \"|\".join(map(lambda s: str(s),vals)).encode('utf-8') \n",
    "    return hashlib.sha224(joined).hexdigest()\n",
    "\n",
    "def get_df_sorted_by_f1score(collection, params=None, filter_cols=True):\n",
    "    if not params:\n",
    "        params = []\n",
    "    if type(params) == str:\n",
    "        params = params.split(\",\")\n",
    "    \n",
    "    project = {\n",
    "            \"weighted_f1_score\":\"$WEIGHTED_MEAN_CONCEPT_CODES.f1_score\",\n",
    "            \"macro_f1_score\":   \"$MACRO_F1\",\n",
    "            \"micro_f1_score\":  \"$MICRO_F1.f1_score\",\n",
    "            \"micro_recall\":    \"$MICRO_F1.recall\",\n",
    "            \"micro_precision\": \"$MICRO_F1.precision\",\n",
    "    \n",
    "    # PARAMETERS            \n",
    "            \"window_size\":    \"$parameters.window_size\",\n",
    "            \"feats\":          \"$parameters.extractors\",\n",
    "            \"count\": {        \"$size\" : \"$parameters.extractors\" },\n",
    "            \"asof\" :          \"$asof\",\n",
    "            \"_id\":1\n",
    "    }\n",
    "    \n",
    "    # No count for HMM\n",
    "    if \"_hmm\" in collection.lower():\n",
    "        del project[\"count\"]\n",
    "    \n",
    "    for param in params:\n",
    "        project[param] = \"$parameters.\" + param\n",
    "\n",
    "    feats_pipeline = [{\n",
    "        \"$project\": project\n",
    "    },\n",
    "    {\n",
    "        \"$match\":{\n",
    "            \"micro_f1_score\": { \"$exists\" : True }        \n",
    "        }\n",
    "    },\n",
    "    {\n",
    "        \"$sort\":{\n",
    "            \"micro_f1_score\": -1\n",
    "        }\n",
    "    },\n",
    "    ]\n",
    "    \n",
    "    rows = [row for row in db[collection].aggregate(feats_pipeline)]\n",
    "    df = pd.DataFrame(rows).sort_values(\"micro_f1_score\", ascending=False)\n",
    "    if params:\n",
    "        df[\"hs_params\"] = df[params].apply(hash_feats, axis=1)\n",
    "        \n",
    "    if filter_cols:\n",
    "        cols = [\"micro_f1_score\", \"micro_recall\" ,\"micro_precision\", \"macro_f1_score\" ] + params\n",
    "        return df[cols]\n",
    "    return df"
   ]
  },
  {
   "cell_type": "code",
   "execution_count": 18,
   "metadata": {
    "collapsed": true
   },
   "outputs": [],
   "source": [
    "def get_window_classifier_results(prefix):\n",
    "    collections = \"WINDOW_CLASSIFIER_BR,WINDOW_CLASSIFIER_LBL_POWERSET_MULTICLASS,WINDOW_CLASSIFIER_MOST_COMMON_TAG_MULTICLASS\".split(\",\")\n",
    "    dfs = []\n",
    "    for c in collections:\n",
    "        col = prefix + c\n",
    "        print(col)\n",
    "        df = dict(get_df_sorted_by_f1score(col).iloc[0,:])\n",
    "        df[\"Collection_\" + prefix[:-1]] = col.replace(prefix,\"\")\n",
    "        dfs.append(df)\n",
    "    return pd.DataFrame(dfs).sort_values(\"micro_f1_score\", ascending=False)"
   ]
  },
  {
   "cell_type": "code",
   "execution_count": 19,
   "metadata": {
    "collapsed": true
   },
   "outputs": [],
   "source": [
    "def round_data(df, places=3):\n",
    "    df_copy = df.copy()\n",
    "    fmt_str = \"{0:.\" + str(places) + \"f}\"\n",
    "    cols = set([v for v in df_copy.columns.values if \"micro_\" in v])\n",
    "    for c in cols:\n",
    "        df_copy[c] = df[c].apply(lambda d: fmt_str.format(d))  \n",
    "    return df_copy"
   ]
  },
  {
   "cell_type": "code",
   "execution_count": 20,
   "metadata": {
    "collapsed": true
   },
   "outputs": [],
   "source": [
    "def compute_macro_metrics(coll):\n",
    "    for row in db[coll].find({}):\n",
    "        precision, recall = [],[]\n",
    "        keys = []\n",
    "        for k in row.keys():\n",
    "            if k[0].isdigit():\n",
    "                keys.append(k)\n",
    "                code, prec, rec = k, row[k][\"precision\"], row[k][\"recall\"]\n",
    "                precision.append(prec)\n",
    "                recall.append(rec)\n",
    "        macro_f1 = row[\"MACRO_F1\"]\n",
    "        mprec = np.mean(precision)\n",
    "        mrec =  np.mean(recall)\n",
    "        est_mf1 = (2 * mprec * mrec) / (mprec + mrec)\n",
    "        print(coll)\n",
    "        #For some reason, the MONGO macro F1 does not match the expected from all the classes\n",
    "        #let's compute this here so that the math works (in case they compute it from the underlying macro recall and prec)\n",
    "        print(\"macro_f1:{mf1:.4f}\\tmrec:{rec:.4f}\\tmprec:{prec:.4f}\".format(code=code, mf1=est_mf1, prec=mprec, rec=mrec))\n",
    "        print(\",\".join(sorted(keys)))\n",
    "        print(\"\")"
   ]
  },
  {
   "cell_type": "raw",
   "metadata": {},
   "source": [
    "for collection in \"TEST_CB_TAGGING_VD_WINDOW_CLASSIFIER_MOST_COMMON_TAG_MULTICLASS,TEST_CB_TAGGING_VD_CRF_MOST_COMMON_TAG,TEST_CB_TAGGING_VD_HMM_MOST_COMMON_TAG_MULTICLASS,TEST_CB_TAGGING_VD_AVG_PERCEPTRON_MOST_COMMON_TAG,TEST_CB_TAGGING_VD_RNN_MOST_COMMON_TAG\".split(\",\"):\n",
    "    compute_macro_metrics(collection)"
   ]
  },
  {
   "cell_type": "raw",
   "metadata": {},
   "source": [
    "for collection in \"TEST_CB_TAGGING_VD_WINDOW_CLASSIFIER_MOST_COMMON_TAG_MULTICLASS,TEST_CB_TAGGING_VD_CRF_MOST_COMMON_TAG,TEST_CB_TAGGING_VD_HMM_MOST_COMMON_TAG_MULTICLASS,TEST_CB_TAGGING_VD_AVG_PERCEPTRON_MOST_COMMON_TAG,TEST_CB_TAGGING_VD_RNN_MOST_COMMON_TAG\".replace(\"CB\",\"SC\").split(\",\"):\n",
    "    compute_macro_metrics(collection)"
   ]
  },
  {
   "cell_type": "code",
   "execution_count": 21,
   "metadata": {},
   "outputs": [
    {
     "data": {
      "text/plain": [
       "0.7403626595030223"
      ]
     },
     "execution_count": 21,
     "metadata": {},
     "output_type": "execute_result"
    }
   ],
   "source": [
    "2 * (0.689 * 0.800)/ (0.689 + 0.800)"
   ]
  },
  {
   "cell_type": "code",
   "execution_count": 42,
   "metadata": {
    "collapsed": true
   },
   "outputs": [],
   "source": [
    "def print_macro_table_row(coll, algo, db=db):\n",
    "    for row in db[coll].find({}):\n",
    "        precision, recall = [],[]\n",
    "        keys = []\n",
    "        for k in row.keys():\n",
    "            if k[0].isdigit():\n",
    "                keys.append(k)\n",
    "                code, prec, rec = k, row[k][\"precision\"], row[k][\"recall\"]\n",
    "                precision.append(prec)\n",
    "                recall.append(rec)\n",
    "        macro_f1 = row[\"MACRO_F1\"]\n",
    "        mprec = np.mean(precision)\n",
    "        mrec =  np.mean(recall)\n",
    "        est_mf1 = (2 * mprec * mrec) / (mprec + mrec)\n",
    "        #For some reason, the MONGO macro F1 does not match the expected from all the classes\n",
    "        #let's compute this here so that the math works (in case they compute it from the underlying macro recall and prec)\n",
    "        print(\"{algo} &\\t{mf1:.3f}\\t\\t\\t&\\t{rec:.3f}\\t\\t\\t&\\t{prec:.3f} \\\\\\\\\".format(algo=algo.ljust(25), mf1=est_mf1, prec=mprec, rec=mrec))\n",
    "        #print(\",\".join(sorted(keys)))        "
   ]
  },
  {
   "cell_type": "code",
   "execution_count": 41,
   "metadata": {
    "collapsed": true
   },
   "outputs": [],
   "source": [
    "def print_micro_table_row(coll, algo, db=db):\n",
    "    for row in db[coll].find({}):\n",
    "        macro_f1 = row[\"MICRO_F1\"][\"f1_score\"]\n",
    "        mprec = row[\"MICRO_F1\"][\"precision\"]\n",
    "        mrec =  row[\"MICRO_F1\"][\"recall\"]\n",
    "        print(\"{algo} &\\t{mf1:.3f}\\t\\t\\t&\\t{rec:.3f}\\t\\t\\t&\\t{prec:.3f} \\\\\\\\\".format(algo=algo.ljust(25), mf1=macro_f1, prec=mprec, rec=mrec))    "
   ]
  },
  {
   "cell_type": "code",
   "execution_count": 40,
   "metadata": {
    "collapsed": true
   },
   "outputs": [],
   "source": [
    "# Where multiple rows (e.g. in CV hyper parameter tuning) grab the best only\n",
    "def print_best_micro_table_row(coll, algo, db=db):\n",
    "    best_f1 = -1\n",
    "    best_tuple = None\n",
    "    for row in db[coll].find({}):        \n",
    "        micro_f1 = row[\"MICRO_F1\"][\"f1_score\"]\n",
    "        if micro_f1 > best_f1:\n",
    "            best_f1 = micro_f1\n",
    "            best_tuple = (micro_f1, row[\"MICRO_F1\"][\"precision\"], row[\"MICRO_F1\"][\"recall\"])\n",
    "    \n",
    "    micro_f1, mprec, mrec = best_tuple\n",
    "    print(\"{algo} &\\t{mf1:.3f}\\t\\t\\t&\\t{rec:.3f}\\t\\t\\t&\\t{prec:.3f} \\\\\\\\\".format(\n",
    "        algo=algo.ljust(25), mf1=micro_f1, prec=mprec, rec=mrec))"
   ]
  },
  {
   "cell_type": "code",
   "execution_count": 39,
   "metadata": {
    "collapsed": true
   },
   "outputs": [],
   "source": [
    "def get_algo_name(coll):\n",
    "    if \"WINDOW\" in coll:\n",
    "        return \"Window-Based Tagger\"\n",
    "    if \"CRF\" in coll:\n",
    "        return \"CRF\"\n",
    "    if \"HMM\" in coll:\n",
    "        return \"HMM\"\n",
    "    if \"PERCEPTRON\" in coll:\n",
    "        return \"Structured Perceptron\"\n",
    "    if \"RNN\" in coll:\n",
    "        return \"Bidirectional RNN\""
   ]
  },
  {
   "cell_type": "markdown",
   "metadata": {},
   "source": [
    "## Micro Metrics by Algo"
   ]
  },
  {
   "cell_type": "markdown",
   "metadata": {},
   "source": [
    "### Coral Bleaching"
   ]
  },
  {
   "cell_type": "code",
   "execution_count": 26,
   "metadata": {},
   "outputs": [
    {
     "name": "stdout",
     "output_type": "stream",
     "text": [
      "Window-Based Tagger       &\t0.842\t\t\t&\t0.802\t\t\t&\t0.885 \\\\\n",
      "CRF                       &\t0.835\t\t\t&\t0.797\t\t\t&\t0.878 \\\\\n",
      "HMM                       &\t0.747\t\t\t&\t0.799\t\t\t&\t0.702 \\\\\n",
      "Structured Perceptron     &\t0.837\t\t\t&\t0.794\t\t\t&\t0.884 \\\\\n",
      "Bidirectional RNN         &\t0.842\t\t\t&\t0.830\t\t\t&\t0.855 \\\\\n"
     ]
    }
   ],
   "source": [
    "#F1, Rec, Prec\n",
    "for collection in \"TEST_CB_TAGGING_VD_WINDOW_CLASSIFIER_MOST_COMMON_TAG_MULTICLASS,TEST_CB_TAGGING_VD_CRF_MOST_COMMON_TAG,TEST_CB_TAGGING_VD_HMM_MOST_COMMON_TAG_MULTICLASS,TEST_CB_TAGGING_VD_AVG_PERCEPTRON_MOST_COMMON_TAG,TEST_CB_TAGGING_VD_RNN_MOST_COMMON_TAG\".split(\",\"):\n",
    "    #collection = collection.replace(\"CB\",\"SC\")\n",
    "    #print(collection)\n",
    "    print_micro_table_row(collection, get_algo_name(collection))"
   ]
  },
  {
   "cell_type": "markdown",
   "metadata": {},
   "source": [
    "### Skin Cancer"
   ]
  },
  {
   "cell_type": "code",
   "execution_count": 27,
   "metadata": {},
   "outputs": [
    {
     "name": "stdout",
     "output_type": "stream",
     "text": [
      "Window-Based Tagger       &\t0.814\t\t\t&\t0.779\t\t\t&\t0.853 \\\\\n",
      "CRF                       &\t0.804\t\t\t&\t0.759\t\t\t&\t0.855 \\\\\n",
      "HMM                       &\t0.675\t\t\t&\t0.731\t\t\t&\t0.628 \\\\\n",
      "Structured Perceptron     &\t0.814\t\t\t&\t0.773\t\t\t&\t0.860 \\\\\n",
      "Bidirectional RNN         &\t0.837\t\t\t&\t0.807\t\t\t&\t0.869 \\\\\n"
     ]
    }
   ],
   "source": [
    "for collection in \"TEST_CB_TAGGING_VD_WINDOW_CLASSIFIER_MOST_COMMON_TAG_MULTICLASS,TEST_CB_TAGGING_VD_CRF_MOST_COMMON_TAG,TEST_CB_TAGGING_VD_HMM_MOST_COMMON_TAG_MULTICLASS,TEST_CB_TAGGING_VD_AVG_PERCEPTRON_MOST_COMMON_TAG,TEST_CB_TAGGING_VD_RNN_MOST_COMMON_TAG\".split(\",\"):\n",
    "    collection = collection.replace(\"CB\",\"SC\")\n",
    "    #print(collection)\n",
    "    print_micro_table_row(collection, get_algo_name(collection))"
   ]
  },
  {
   "cell_type": "markdown",
   "metadata": {},
   "source": [
    "## Macro Metrics By Algo"
   ]
  },
  {
   "cell_type": "markdown",
   "metadata": {},
   "source": [
    "### Coral Bleaching"
   ]
  },
  {
   "cell_type": "code",
   "execution_count": 28,
   "metadata": {},
   "outputs": [
    {
     "name": "stdout",
     "output_type": "stream",
     "text": [
      "Window-Based Tagger       &\t0.740\t\t\t&\t0.689\t\t\t&\t0.800 \\\\\n",
      "CRF                       &\t0.725\t\t\t&\t0.676\t\t\t&\t0.781 \\\\\n",
      "HMM                       &\t0.657\t\t\t&\t0.725\t\t\t&\t0.602 \\\\\n",
      "Structured Perceptron     &\t0.737\t\t\t&\t0.691\t\t\t&\t0.789 \\\\\n",
      "Bidirectional RNN         &\t0.769\t\t\t&\t0.756\t\t\t&\t0.783 \\\\\n"
     ]
    }
   ],
   "source": [
    "for collection in \"TEST_CB_TAGGING_VD_WINDOW_CLASSIFIER_MOST_COMMON_TAG_MULTICLASS,TEST_CB_TAGGING_VD_CRF_MOST_COMMON_TAG,TEST_CB_TAGGING_VD_HMM_MOST_COMMON_TAG_MULTICLASS,TEST_CB_TAGGING_VD_AVG_PERCEPTRON_MOST_COMMON_TAG,TEST_CB_TAGGING_VD_RNN_MOST_COMMON_TAG\".split(\",\"):\n",
    "    print_macro_table_row(collection, get_algo_name(collection))"
   ]
  },
  {
   "cell_type": "markdown",
   "metadata": {},
   "source": [
    "### Skin Cancer"
   ]
  },
  {
   "cell_type": "code",
   "execution_count": 29,
   "metadata": {},
   "outputs": [
    {
     "name": "stdout",
     "output_type": "stream",
     "text": [
      "Window-Based Tagger       &\t0.761\t\t\t&\t0.693\t\t\t&\t0.843 \\\\\n",
      "CRF                       &\t0.756\t\t\t&\t0.685\t\t\t&\t0.843 \\\\\n",
      "HMM                       &\t0.644\t\t\t&\t0.678\t\t\t&\t0.613 \\\\\n",
      "Structured Perceptron     &\t0.757\t\t\t&\t0.690\t\t\t&\t0.840 \\\\\n",
      "Bidirectional RNN         &\t0.779\t\t\t&\t0.711\t\t\t&\t0.862 \\\\\n"
     ]
    }
   ],
   "source": [
    "for collection in \"TEST_CB_TAGGING_VD_WINDOW_CLASSIFIER_MOST_COMMON_TAG_MULTICLASS,TEST_CB_TAGGING_VD_CRF_MOST_COMMON_TAG,TEST_CB_TAGGING_VD_HMM_MOST_COMMON_TAG_MULTICLASS,TEST_CB_TAGGING_VD_AVG_PERCEPTRON_MOST_COMMON_TAG,TEST_CB_TAGGING_VD_RNN_MOST_COMMON_TAG\".split(\",\"):\n",
    "    collection = collection.replace(\"CB\",\"SC\")\n",
    "    #print(collection)\n",
    "    print_macro_table_row(collection, get_algo_name(collection))"
   ]
  },
  {
   "cell_type": "markdown",
   "metadata": {},
   "source": [
    "### <span style=\"color:red; font-weight:bold\">Examine VD data for comparison</span>"
   ]
  },
  {
   "cell_type": "markdown",
   "metadata": {},
   "source": [
    "### Micro Metrics on VALIDATION Dataset"
   ]
  },
  {
   "cell_type": "markdown",
   "metadata": {},
   "source": [
    "### CB"
   ]
  },
  {
   "cell_type": "code",
   "execution_count": 30,
   "metadata": {},
   "outputs": [
    {
     "name": "stdout",
     "output_type": "stream",
     "text": [
      "Window-Based Tagger       &\t0.823\t\t\t&\t0.757\t\t\t&\t0.903 \\\\\n",
      "CRF                       &\t0.824\t\t\t&\t0.772\t\t\t&\t0.883 \\\\\n",
      "HMM                       &\t0.758\t\t\t&\t0.789\t\t\t&\t0.728 \\\\\n",
      "Structured Perceptron     &\t0.829\t\t\t&\t0.778\t\t\t&\t0.887 \\\\\n",
      "Bidirectional RNN         &\t0.837\t\t\t&\t0.822\t\t\t&\t0.853 \\\\\n"
     ]
    }
   ],
   "source": [
    "#F1, Rec, Prec\n",
    "for coll in [\n",
    "        \"CB_TAGGING_VD_WINDOW_CLASSIFIER_MOST_COMMON_TAG_MULTICLASS_HYPER_PARAM_TUNING\",\n",
    "        \"CB_TAGGING_VD_CRF_MOST_COMMON_TAG_HYPERPARAM_OPT\",\n",
    "        \"CB_TAGGING_VD_HMM_MOST_COMMON_TAG_MULTICLASS\",\n",
    "        \"CB_TAGGING_VD_AVG_PERCEPTRON_MOST_COMMON_TAG_HYPER_PARAM_TUNING_NEW\",\n",
    "        \"CB_TAGGING_VD_RNN_MOST_COMMON_TAG_HYPER_PARAM_TUNING\"\n",
    "    ]:\n",
    "    name = get_algo_name(coll)\n",
    "    #print(coll, \"\\t\\t\", name)\n",
    "    print_best_micro_table_row(coll, name)\n",
    "    "
   ]
  },
  {
   "cell_type": "markdown",
   "metadata": {},
   "source": [
    "### SC"
   ]
  },
  {
   "cell_type": "code",
   "execution_count": 31,
   "metadata": {},
   "outputs": [
    {
     "name": "stdout",
     "output_type": "stream",
     "text": [
      "Window-Based Tagger       &\t0.810\t\t\t&\t0.773\t\t\t&\t0.850 \\\\\n",
      "CRF                       &\t0.799\t\t\t&\t0.758\t\t\t&\t0.846 \\\\\n",
      "HMM                       &\t0.674\t\t\t&\t0.733\t\t\t&\t0.625 \\\\\n",
      "Structured Perceptron     &\t0.809\t\t\t&\t0.767\t\t\t&\t0.855 \\\\\n",
      "Bidirectional RNN         &\t0.821\t\t\t&\t0.821\t\t\t&\t0.822 \\\\\n"
     ]
    }
   ],
   "source": [
    "#F1, Rec, Prec\n",
    "for coll in [\n",
    "        \"CB_TAGGING_VD_WINDOW_CLASSIFIER_MOST_COMMON_TAG_MULTICLASS_HYPER_PARAM_TUNING\",\n",
    "        \"CB_TAGGING_VD_CRF_MOST_COMMON_TAG_HYPERPARAM_OPT\",\n",
    "        \"CB_TAGGING_VD_HMM_MOST_COMMON_TAG_MULTICLASS\",\n",
    "        \"CB_TAGGING_VD_AVG_PERCEPTRON_MOST_COMMON_TAG_HYPER_PARAM_TUNING_NEW\",\n",
    "        \"CB_TAGGING_VD_RNN_MOST_COMMON_TAG_HYPER_PARAM_TUNING\"\n",
    "    ]:\n",
    "    coll = coll.replace(\"CB_\", \"SC_\")\n",
    "    name = get_algo_name(coll)\n",
    "    #print(coll, \"\\t\\t\", name)\n",
    "    print_best_micro_table_row(coll, name)\n",
    "    "
   ]
  },
  {
   "cell_type": "markdown",
   "metadata": {},
   "source": [
    "# Causal Relations"
   ]
  },
  {
   "cell_type": "markdown",
   "metadata": {},
   "source": [
    "## Macro Averages by Algo"
   ]
  },
  {
   "cell_type": "code",
   "execution_count": 68,
   "metadata": {},
   "outputs": [],
   "source": [
    "def get_causal_algo_name(coll):\n",
    "    if \"RNN\" in coll:\n",
    "        return \"RNN Word Tagging Model\"\n",
    "    if \"SHIFT\" in coll:\n",
    "        return \"Shift-Reduce Parser\"\n",
    "    if \"STACK\" in coll:\n",
    "        return \"Stacking Model\"\n",
    "    return \"xxx\"\n",
    "\n",
    "def print_macro_table_row_crel(coll, algo, db=db):\n",
    "    for row in db[coll].find({}):\n",
    "        precision, recall = [],[]\n",
    "        keys = []\n",
    "        crels = set((t for t in row.keys() if (\"->\" in t) and\n",
    "                        not \"Anaphor\" in t and\n",
    "                        not \"other\" in t and\n",
    "                        not \"rhetorical\" in t and\n",
    "                        not \"factor\" in t and\n",
    "                        1 == 1\n",
    "                        ))\n",
    "        for k in row.keys():\n",
    "            #TODO - fix this to be more specific\n",
    "            if k in crels:\n",
    "                keys.append(k)\n",
    "                code, prec, rec = k, row[k][\"precision\"], row[k][\"recall\"]\n",
    "                precision.append(prec)\n",
    "                recall.append(rec)\n",
    "        macro_f1 = row[\"MACRO_F1\"]\n",
    "        mprec = np.mean(precision)\n",
    "        mrec =  np.mean(recall)\n",
    "        est_mf1 = (2 * mprec * mrec) / (mprec + mrec)\n",
    "        #For some reason, the MONGO macro F1 does not match the expected from all the classes\n",
    "        #let's compute this here so that the math works (in case they compute it from the underlying macro recall and prec)\n",
    "        print(\"{algo} &\\t{mf1:.3f}\\t\\t\\t&\\t{rec:.3f}\\t\\t\\t&\\t{prec:.3f} \\\\\\\\\".format(algo=algo.ljust(25), mf1=est_mf1, prec=mprec, rec=mrec))\n",
    "\n",
    "cb_collections = [\n",
    "    'CR_CB_TAGGING_VD_MOST_COMMON_TAG_RNN',\n",
    "    'CR_CB_STACKED_VD',\n",
    "    'CR_CB_SHIFT_REDUCE_PARSER_TEMPLATED_HYPER_PARAM_VD'\n",
    "]\n",
    "test_collections = [\"TEST_\" + c.replace(\"HYPER_PARAM_\",\"\") for c in cb_collections]"
   ]
  },
  {
   "cell_type": "markdown",
   "metadata": {},
   "source": [
    "### Coral Bleaching"
   ]
  },
  {
   "cell_type": "code",
   "execution_count": 69,
   "metadata": {},
   "outputs": [
    {
     "name": "stdout",
     "output_type": "stream",
     "text": [
      "RNN Word Tagging Model    &\t0.211\t\t\t&\t0.199\t\t\t&\t0.226 \\\\\n",
      "Stacking Model            &\t0.189\t\t\t&\t0.189\t\t\t&\t0.189 \\\\\n",
      "Shift-Reduce Parser       &\t0.306\t\t\t&\t0.338\t\t\t&\t0.280 \\\\\n"
     ]
    }
   ],
   "source": [
    "#F1, Rec, Prec\n",
    "for coll in test_collections:\n",
    "    name = get_causal_algo_name(coll)\n",
    "    #print(coll, \"\\t\\t\", name)\n",
    "    print_macro_table_row_crel(coll, name, db = client.metrics_causal)"
   ]
  },
  {
   "cell_type": "markdown",
   "metadata": {},
   "source": [
    "### Skin Cancer"
   ]
  },
  {
   "cell_type": "code",
   "execution_count": 71,
   "metadata": {},
   "outputs": [
    {
     "name": "stdout",
     "output_type": "stream",
     "text": [
      "RNN Word Tagging Model    &\t0.342\t\t\t&\t0.343\t\t\t&\t0.342 \\\\\n",
      "Stacking Model            &\t0.271\t\t\t&\t0.250\t\t\t&\t0.296 \\\\\n",
      "Shift-Reduce Parser       &\t0.302\t\t\t&\t0.286\t\t\t&\t0.320 \\\\\n"
     ]
    }
   ],
   "source": [
    "#F1, Rec, Prec\n",
    "for coll in test_collections:\n",
    "    coll = coll.replace(\"CB\", \"SC\")\n",
    "    name = get_causal_algo_name(coll)\n",
    "    #print(coll, \"\\t\\t\", name)\n",
    "    print_macro_table_row_crel(coll, name, db = client.metrics_causal)"
   ]
  },
  {
   "cell_type": "code",
   "execution_count": null,
   "metadata": {},
   "outputs": [],
   "source": []
  }
 ],
 "metadata": {
  "anaconda-cloud": {},
  "kernelspec": {
   "display_name": "Python [default]",
   "language": "python",
   "name": "python3"
  },
  "language_info": {
   "codemirror_mode": {
    "name": "ipython",
    "version": 3
   },
   "file_extension": ".py",
   "mimetype": "text/x-python",
   "name": "python",
   "nbconvert_exporter": "python",
   "pygments_lexer": "ipython3",
   "version": "3.6.4"
  }
 },
 "nbformat": 4,
 "nbformat_minor": 2
}
