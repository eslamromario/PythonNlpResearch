{
 "cells": [
  {
   "cell_type": "code",
   "execution_count": 1,
   "metadata": {
    "collapsed": true
   },
   "outputs": [],
   "source": [
    "%matplotlib inline\n",
    "import numpy as np\n",
    "import pandas as pd\n",
    "import matplotlib as mpl\n",
    "import matplotlib.pyplot as plt\n",
    "#import seaborn as sns\n",
    "import pymongo\n",
    "from pprint import pprint"
   ]
  },
  {
   "cell_type": "code",
   "execution_count": 2,
   "metadata": {
    "collapsed": true
   },
   "outputs": [],
   "source": [
    "client = pymongo.MongoClient()\n",
    "db = client.metrics"
   ]
  },
  {
   "cell_type": "code",
   "execution_count": 3,
   "metadata": {
    "collapsed": true
   },
   "outputs": [],
   "source": [
    "def group_by(df, bycols, agg_map):\n",
    "    \"\"\"\n",
    "\n",
    "    @param df:      DataFrame\n",
    "    @param bycols:  str or list\n",
    "                        Column(s) to group by\n",
    "    @param agg_map: dictionary or list of 2-tuples\n",
    "                        Mapping from column to aggregate function e.g. [(\"city\", \"count\"), (\"salary\", \"mean\"]\n",
    "    @return:        DataFrame\n",
    "                        Flattened dataframe, with multi-level index removed\n",
    "    \"\"\"\n",
    "    grps = []\n",
    "    if type(bycols) == str:\n",
    "        bycols = [bycols]\n",
    "\n",
    "    if type(agg_map) == dict:\n",
    "        agg_map = agg_map.items()\n",
    "\n",
    "    for k,v in agg_map:\n",
    "        grp = df[bycols + [k]].groupby(bycols, ).agg(v)\n",
    "        grp.reset_index(inplace=True)\n",
    "        grp[\"%s(%s)\" % (v,k)] = grp[k]\n",
    "        del grp[k]\n",
    "        grps.append(grp)\n",
    "\n",
    "    m = grps[0]\n",
    "    for grp in grps[1:]:\n",
    "        m = pd.merge(m, grp, on=bycols, how=\"inner\")\n",
    "    return m"
   ]
  },
  {
   "cell_type": "code",
   "execution_count": 4,
   "metadata": {
    "collapsed": true
   },
   "outputs": [],
   "source": [
    "from bson.son import SON # needed to ensure dictionary is ordered (python default is not)\n",
    "import hashlib\n",
    "\n",
    "def hash_feats(fts):\n",
    "    vals = fts.values\n",
    "    joined = \"|\".join(map(lambda s: str(s),vals)).encode('utf-8') \n",
    "    return hashlib.sha224(joined).hexdigest()\n",
    "\n",
    "def get_df_sorted_by_f1score(collection, params=None, filter_cols=True):\n",
    "    if not params:\n",
    "        params = []\n",
    "    if type(params) == str:\n",
    "        params = params.split(\",\")\n",
    "    \n",
    "    project = {\n",
    "            \"weighted_f1_score\":\"$WEIGHTED_MEAN_CONCEPT_CODES.f1_score\",\n",
    "            \"macro_f1_score\":   \"$MACRO_F1\",\n",
    "            \"micro_f1_score\":  \"$MICRO_F1.f1_score\",\n",
    "            \"micro_recall\":    \"$MICRO_F1.recall\",\n",
    "            \"micro_precision\": \"$MICRO_F1.precision\",\n",
    "    \n",
    "    # PARAMETERS            \n",
    "            \"window_size\":    \"$parameters.window_size\",\n",
    "            \"feats\":          \"$parameters.extractors\",\n",
    "            \"count\": {        \"$size\" : \"$parameters.extractors\" },\n",
    "            \"asof\" :          \"$asof\",\n",
    "            \"_id\":1\n",
    "    }\n",
    "    \n",
    "    # No count for HMM\n",
    "    if \"_hmm\" in collection.lower():\n",
    "        del project[\"count\"]\n",
    "    \n",
    "    for param in params:\n",
    "        project[param] = \"$parameters.\" + param\n",
    "\n",
    "    feats_pipeline = [{\n",
    "        \"$project\": project\n",
    "    },\n",
    "    {\n",
    "        \"$match\":{\n",
    "            \"micro_f1_score\": { \"$exists\" : True }        \n",
    "        }\n",
    "    },\n",
    "    {\n",
    "        \"$sort\":{\n",
    "            \"micro_f1_score\": -1\n",
    "        }\n",
    "    },\n",
    "    ]\n",
    "    \n",
    "    rows = [row for row in db[collection].aggregate(feats_pipeline)]\n",
    "    df = pd.DataFrame(rows).sort_values(\"micro_f1_score\", ascending=False)\n",
    "    if params:\n",
    "        df[\"hs_params\"] = df[params].apply(hash_feats, axis=1)\n",
    "        \n",
    "    if filter_cols:\n",
    "        cols = [\"micro_f1_score\", \"micro_recall\" ,\"micro_precision\", \"macro_f1_score\" ] + params\n",
    "        return df[cols]\n",
    "    return df"
   ]
  },
  {
   "cell_type": "code",
   "execution_count": 5,
   "metadata": {
    "collapsed": true
   },
   "outputs": [],
   "source": [
    "def get_window_classifier_results(prefix):\n",
    "    collections = \"WINDOW_CLASSIFIER_BR,WINDOW_CLASSIFIER_LBL_POWERSET_MULTICLASS,WINDOW_CLASSIFIER_MOST_COMMON_TAG_MULTICLASS\".split(\",\")\n",
    "    dfs = []\n",
    "    for c in collections:\n",
    "        col = prefix + c\n",
    "        print(col)\n",
    "        df = dict(get_df_sorted_by_f1score(col).iloc[0,:])\n",
    "        df[\"Collection_\" + prefix[:-1]] = col.replace(prefix,\"\")\n",
    "        dfs.append(df)\n",
    "    return pd.DataFrame(dfs).sort_values(\"micro_f1_score\", ascending=False)"
   ]
  },
  {
   "cell_type": "code",
   "execution_count": 7,
   "metadata": {
    "collapsed": true
   },
   "outputs": [],
   "source": [
    "def round_data(df, places=3):\n",
    "    df_copy = df.copy()\n",
    "    fmt_str = \"{0:.\" + str(places) + \"f}\"\n",
    "    cols = set([v for v in df_copy.columns.values if \"micro_\" in v])\n",
    "    for c in cols:\n",
    "        df_copy[c] = df[c].apply(lambda d: fmt_str.format(d))  \n",
    "    return df_copy"
   ]
  },
  {
   "cell_type": "code",
   "execution_count": 15,
   "metadata": {
    "collapsed": true
   },
   "outputs": [],
   "source": [
    "def compute_macro_metrics(coll):\n",
    "    for row in db[coll].find({}):\n",
    "        precision, recall = [],[]\n",
    "        keys = []\n",
    "        for k in row.keys():\n",
    "            if k[0].isdigit():\n",
    "                keys.append(k)\n",
    "                code, prec, rec = k, row[k][\"precision\"], row[k][\"recall\"]\n",
    "                precision.append(prec)\n",
    "                recall.append(rec)\n",
    "        macro_f1 = row[\"MACRO_F1\"]\n",
    "        mprec = np.mean(precision)\n",
    "        mrec =  np.mean(recall)\n",
    "        est_mf1 = (2 * mprec * mrec) / (mprec + mrec)\n",
    "        print(coll)\n",
    "        #print(macro_f1, est_mf1)\n",
    "        print(\"macro_f1:{mf1:.4f}\\tmprec:{prec:.4f}\\tmrec:{rec:.4f}\".format(code=code, mf1=macro_f1, prec=mprec, rec=mrec))\n",
    "        print(\",\".join(sorted(keys)))\n",
    "        print(\"\")"
   ]
  },
  {
   "cell_type": "code",
   "execution_count": 17,
   "metadata": {},
   "outputs": [
    {
     "name": "stdout",
     "output_type": "stream",
     "text": [
      "TEST_SC_TAGGING_VD_WINDOW_CLASSIFIER_MOST_COMMON_TAG_MULTICLASS\n",
      "macro_f1:0.7606\tmprec:0.8432\tmrec:0.6928\n",
      "1,11,12,2,3,4,5,50,6\n",
      "\n",
      "TEST_SC_TAGGING_VD_CRF_MOST_COMMON_TAG\n",
      "macro_f1:0.7557\tmprec:0.8425\tmrec:0.6851\n",
      "1,11,12,2,3,4,5,50,6\n",
      "\n",
      "TEST_SC_TAGGING_VD_HMM_MOST_COMMON_TAG_MULTICLASS\n",
      "macro_f1:0.6439\tmprec:0.6132\tmrec:0.6778\n",
      "1,11,12,2,3,4,5,50,6\n",
      "\n",
      "TEST_SC_TAGGING_VD_AVG_PERCEPTRON_MOST_COMMON_TAG\n",
      "macro_f1:0.7573\tmprec:0.8397\tmrec:0.6896\n",
      "1,11,12,2,3,4,5,50,6\n",
      "\n",
      "TEST_SC_TAGGING_VD_RNN_MOST_COMMON_TAG\n",
      "macro_f1:0.7793\tmprec:0.8619\tmrec:0.7111\n",
      "1,11,12,2,3,4,5,50,6\n",
      "\n"
     ]
    }
   ],
   "source": [
    "for collection in \"TEST_CB_TAGGING_VD_WINDOW_CLASSIFIER_MOST_COMMON_TAG_MULTICLASS,TEST_CB_TAGGING_VD_CRF_MOST_COMMON_TAG,TEST_CB_TAGGING_VD_HMM_MOST_COMMON_TAG_MULTICLASS,TEST_CB_TAGGING_VD_AVG_PERCEPTRON_MOST_COMMON_TAG,TEST_CB_TAGGING_VD_RNN_MOST_COMMON_TAG\".split(\",\"):\n",
    "    compute_macro_metrics(collection)"
   ]
  },
  {
   "cell_type": "code",
   "execution_count": 10,
   "metadata": {},
   "outputs": [
    {
     "name": "stdout",
     "output_type": "stream",
     "text": [
      "TEST_SC_TAGGING_VD_WINDOW_CLASSIFIER_MOST_COMMON_TAG_MULTICLASS\n",
      "code:2\tmacro_f1:0.7606\tmprec:0.8432\tmrec:0.6928\n",
      "\n",
      "TEST_SC_TAGGING_VD_CRF_MOST_COMMON_TAG\n",
      "code:2\tmacro_f1:0.7557\tmprec:0.8425\tmrec:0.6851\n",
      "\n",
      "TEST_SC_TAGGING_VD_HMM_MOST_COMMON_TAG_MULTICLASS\n",
      "code:2\tmacro_f1:0.6439\tmprec:0.6132\tmrec:0.6778\n",
      "\n",
      "TEST_SC_TAGGING_VD_AVG_PERCEPTRON_MOST_COMMON_TAG\n",
      "code:2\tmacro_f1:0.7573\tmprec:0.8397\tmrec:0.6896\n",
      "\n",
      "TEST_SC_TAGGING_VD_RNN_MOST_COMMON_TAG\n",
      "code:3\tmacro_f1:0.7793\tmprec:0.8619\tmrec:0.7111\n",
      "\n"
     ]
    }
   ],
   "source": [
    "for collection in \"TEST_CB_TAGGING_VD_WINDOW_CLASSIFIER_MOST_COMMON_TAG_MULTICLASS,TEST_CB_TAGGING_VD_CRF_MOST_COMMON_TAG,TEST_CB_TAGGING_VD_HMM_MOST_COMMON_TAG_MULTICLASS,TEST_CB_TAGGING_VD_AVG_PERCEPTRON_MOST_COMMON_TAG,TEST_CB_TAGGING_VD_RNN_MOST_COMMON_TAG\".replace(\"CB\",\"SC\").split(\",\"):\n",
    "    compute_macro_metrics(collection)"
   ]
  },
  {
   "cell_type": "code",
   "execution_count": null,
   "metadata": {
    "collapsed": true
   },
   "outputs": [],
   "source": []
  }
 ],
 "metadata": {
  "anaconda-cloud": {},
  "kernelspec": {
   "display_name": "Python [default]",
   "language": "python",
   "name": "python3"
  },
  "language_info": {
   "codemirror_mode": {
    "name": "ipython",
    "version": 3
   },
   "file_extension": ".py",
   "mimetype": "text/x-python",
   "name": "python",
   "nbconvert_exporter": "python",
   "pygments_lexer": "ipython3",
   "version": "3.6.1"
  }
 },
 "nbformat": 4,
 "nbformat_minor": 2
}
