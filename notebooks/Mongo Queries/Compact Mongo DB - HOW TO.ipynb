{
 "cells": [
  {
   "cell_type": "code",
   "execution_count": null,
   "metadata": {
    "collapsed": true
   },
   "outputs": [],
   "source": [
    "# with mongod running\n",
    "!cd ~/GitHub/NlpResearch/PythonNlpResearch\n",
    "!rm -rf MongoExport/metrics_codes\n",
    "# EXPORT codes_db\n",
    "!mongodump -d metrics_codes -o MongoExport\n",
    "\n",
    "# repeat with causal\n",
    "# EXPORT\n",
    "!mongodump -d metrics_causal -o MongoExport"
   ]
  },
  {
   "cell_type": "code",
   "execution_count": 1,
   "metadata": {
    "collapsed": true
   },
   "outputs": [],
   "source": [
    "# shutdown mongod"
   ]
  },
  {
   "cell_type": "code",
   "execution_count": null,
   "metadata": {
    "collapsed": true
   },
   "outputs": [],
   "source": [
    "# re-start mongo with small files:\n",
    "!mongod -dbpath=/Users/simon.hughes/GitHub/NlpResearch/PythonNlpResearch/MongoDb/ --smallfiles --quotaFiles 1\n",
    "\n",
    "# --smallfiles causes deafult file size to drop to 64M \n",
    "# --quotafiles limits to 1 file (might want to up that)\n",
    "#   see https://stackoverflow.com/questions/9779923/set-mongodb-database-quota-size"
   ]
  },
  {
   "cell_type": "code",
   "execution_count": null,
   "metadata": {
    "collapsed": true
   },
   "outputs": [],
   "source": [
    "# IMPORT the exported .BSON data\n",
    "\n",
    "# IMPORT _codes as _bak\n",
    "!mongorestore -d metrics_codes_bak  MongoExport/metrics_codes/\n",
    "\n",
    "# IMPORT _causal as _bak\n",
    "!mongorestore -d metrics_causal_bak  MongoExport/metrics_causal/"
   ]
  },
  {
   "cell_type": "code",
   "execution_count": 1,
   "metadata": {
    "collapsed": true
   },
   "outputs": [],
   "source": [
    "# Rename the databases\n",
    "# in robomongo\n",
    "    # db.copyDatabase('metrics_codes_bak','metrics_codes','localhost')\n",
    "    # db.copyDatabase('metrics_causal_bak','metrics_causal','localhost')\n",
    "# Drop the _bak databases\n",
    "# run the ./compact_mongo.sh script to run a repair db afterwards"
   ]
  },
  {
   "cell_type": "code",
   "execution_count": null,
   "metadata": {
    "collapsed": true
   },
   "outputs": [],
   "source": []
  }
 ],
 "metadata": {
  "anaconda-cloud": {},
  "kernelspec": {
   "display_name": "Python [conda env:phd]",
   "language": "python",
   "name": "conda-env-phd-py"
  },
  "language_info": {
   "codemirror_mode": {
    "name": "ipython",
    "version": 2
   },
   "file_extension": ".py",
   "mimetype": "text/x-python",
   "name": "python",
   "nbconvert_exporter": "python",
   "pygments_lexer": "ipython2",
   "version": "2.7.13"
  }
 },
 "nbformat": 4,
 "nbformat_minor": 2
}
