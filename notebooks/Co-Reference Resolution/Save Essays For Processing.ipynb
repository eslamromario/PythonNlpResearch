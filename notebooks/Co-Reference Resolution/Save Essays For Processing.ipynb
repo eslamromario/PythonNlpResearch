{
 "cells": [
  {
   "cell_type": "code",
   "execution_count": 24,
   "metadata": {},
   "outputs": [
    {
     "name": "stdout",
     "output_type": "stream",
     "text": [
      "Results Dir: /Users/simon.hughes/Google Drive/Phd/Results/\n",
      "Data Dir:    /Users/simon.hughes/Google Drive/Phd/Data/\n",
      "Root Dir:    /Users/simon.hughes/GitHub/NlpResearch/\n",
      "Public Data: /Users/simon.hughes/GitHub/NlpResearch/Data/PublicDatasets/\n"
     ]
    }
   ],
   "source": [
    "import numpy as np\n",
    "import dill\n",
    "\n",
    "#from gensim.models import Word2Vec\n",
    "from window_based_tagger_config import get_config\n",
    "from Rpfa import micro_rpfa\n",
    "\n",
    "import logging\n",
    "import datetime\n",
    "import pickle\n",
    "\n",
    "from CrossValidation import cross_validation\n",
    "from BrattEssay import load_bratt_essays\n",
    "from load_data import load_process_essays\n",
    "from collections import defaultdict\n",
    "from IterableFP import flatten\n",
    "from Settings import Settings\n",
    "\n",
    "CV_FOLDS = 5\n",
    "DEV_SPLIT = 0.1\n",
    "\n",
    "settings = Settings()\n",
    "root_folder = settings.data_directory + \"CoralBleaching/Thesis_Dataset/\"\n",
    "training_folder = root_folder + \"Training\" + \"/\"\n",
    "training_pickled = settings.data_directory + \"CoralBleaching/Thesis_Dataset/training.pl\""
   ]
  },
  {
   "cell_type": "code",
   "execution_count": 45,
   "metadata": {},
   "outputs": [
    {
     "name": "stdout",
     "output_type": "stream",
     "text": [
      "902 files found\n",
      "902 essays processed\n"
     ]
    }
   ],
   "source": [
    "config = get_config(training_folder)\n",
    "# override this so we don't replace INFREQUENT words\n",
    "config[\"min_df\"] = 0\n",
    "tagged_essays2 = load_process_essays(**config)\n",
    "#config"
   ]
  },
  {
   "cell_type": "code",
   "execution_count": 40,
   "metadata": {},
   "outputs": [
    {
     "data": {
      "text/plain": [
       "902"
      ]
     },
     "execution_count": 40,
     "metadata": {},
     "output_type": "execute_result"
    }
   ],
   "source": [
    "len(tagged_essays2)"
   ]
  },
  {
   "cell_type": "code",
   "execution_count": 22,
   "metadata": {},
   "outputs": [
    {
     "name": "stdout",
     "output_type": "stream",
     "text": [
      "********************************************************************************\n",
      "EBA1415_AEKD_4_CB_ES-05568.ann\n",
      "********************************************************************************\n",
      "What leads to differences in the rates of coral bleaching .\n",
      ">>> Coral is often mistaken for a rock but it is made up of tiny animals called polyps .\n",
      ">>> Coral bleaching shows bleaching and healthy bleaching event that makes coral vulnerable to disease and starvation .\n",
      ">>> Coral bleaching is almost noticeable in the pacific ocean .\n",
      "********************************************************************************\n",
      "EBA1415_AEKD_4_CB_ES-05572.ann\n",
      "********************************************************************************\n",
      "The part of coral called \" zooanthellae \" are not getting sunlight .\n",
      ">>> And if they dont get or much sunlight they start to loses their color .\n",
      ">>> The reason why is because the \" zooanthellae . \" if not getting mixed up with carbon dioxide .\n",
      ">>> The coral also need special water temperature because they are sensitive .\n",
      ">>> Also its a threats for us because means that more extreme storms are most likely to occurs .\n",
      ">>> Also the water us getting to salty .\n",
      "********************************************************************************\n",
      "EBA1415_AEKD_4_CB_ES-05902.ann\n",
      "********************************************************************************\n",
      "What leads to different in the rates of coral bleaching is that INFREQUENT different types of INFREQUENT living within the coral polyps gives the coral their varying colors .\n",
      ">>> It states that \" coral is often mistaken for a rock or plant .\n",
      ">>> Coral reefs are only found in clear , shallow , tropical waters . \"\n",
      ">>> Because if they INFREQUENT in that type pf water they would die .\n",
      ">>> Coral with the energy it needs to survive .\n",
      ">>> As water INFREQUENT increases , the amount of carbon dioxide in water decreases .\n",
      ">>> And also coral turns white due to the ejection or death of the INFREQUENT algae .\n",
      ">>> Coral bleaching is a phenomenon in which loses its color .\n",
      ">>> Coral bleaching is most noticeable in the pacific ocean .\n",
      ">>> Coral is made uo tiny animals called polyps .\n",
      "********************************************************************************\n",
      "EBA1415_AEKD_5_CB_ES-05579.ann\n",
      "********************************************************************************\n",
      "I read over marine INFREQUENT and has been discovered that there are many different types of corals that live in the ocean that live close to the animals and loses their color .\n",
      ">>> Change in climate .\n",
      ">>> It about when the wind changes direction and affects the world and ocean .\n",
      ">>> Shifting trade winds\n",
      ">>> Trade winds were originally used to guide boat navigation and were later recognized as INFREQUENT important for merchant trading in the 000 .\n",
      ">>> Coral and photosynthesis\n",
      ">>> Coral is often mistaken for a rock or plant however , it is really made up of tiny animals called polyps .\n",
      ">>> A coral polyps range in size INFREQUENT tiny ( the size of a pinhead ) up to a foot in diameter .\n",
      ">>> Coral and zooanthallae\n",
      ">>> Coral and zooxanthallae algae have a symbiotic relationship .\n",
      ">>> This means that they both benefit from their relationship with each other .\n",
      ">>> In fact most zooxanthallae cannot live outside of the coral animals body .\n",
      ">>> The algae rely on the coral to stay healthy but corals can sustain physical damage from some destructive practices .\n",
      ">>> Examples of this include blast fishing and tourists who drop anchors or walk on reefs .\n",
      ">>> Coral bleaching ( figure 0 shows bleached and healthy coral ) is one example of how environmental stressors can negatively affect the balanced relationship between are coral and zooanthallae algae ( see figure ) .\n",
      "********************************************************************************\n",
      "EBA1415_AEKD_5_CB_ES-05582.ann\n",
      "********************************************************************************\n",
      "The difference between a normal coral and a bleached coral is that bleached coral is a plain white , coral bleaching is most noticeable in the pacific ocean and about 0 0 of the surface of the entire globe .\n",
      ">>> Also during INFREQUENT turn white due to the ejection or death of the zooanthellae algae .\n",
      ">>> Also in the result of bleaching coral vulnerable to disease and starvation .\n",
      ">>> And in 0000 00 % of the world coral reefs .\n",
      ">>> Normal corals is made up of tiny animals called polyps . their mouth surrounded by stinging tentacles .\n",
      ">>> Polyps use limestone from seawater to build a hard skeleton and protect their delicate body .\n",
      ">>> Coral reefs are only found in clear , shallow , tropical waters .\n",
      "********************************************************************************\n",
      "EBA1415_AEKD_5_CB_ES-05586.ann\n",
      "********************************************************************************\n",
      "What leads to differences in the rates of coral bleaching .\n",
      ">>> Some differences will start INFREQUENT , like some consumers of coral reef , they ( fishes consumers , ) will starve to death because those consumers is all they eat .\n",
      ">>> Then the other , consumers will have trouble INFREQUENT or eating their food due to lack of energy .\n",
      ">>> It will then become a slight problem to larger consumers because they cant find food .\n",
      ">>> Like fisherman , they find fishes to INFREQUENT and if they cant find fishes , other consumers starve .\n",
      ">>> Producers ( things that create food using sunlight like coral reef ) will be eaten more quickly than produce INFREQUENT more food for itself and others .\n",
      ">>> Once the producers in the ocean die out , there will be less food for everyone in the entire world .\n",
      ">>> It will be notice and INFREQUENT of differences in food will be made .\n",
      ">>> If the coral reef die out , large changes in the world would be notice like some fishes INFREQUENT out ( extinct ) and we would even have less food to produce due to INFREQUENT of an animal .\n",
      ">>> This leads a big difference in coral bleaching , soon , we will loose a producer that creates food energy for animals .\n",
      ">>> In conclusion , the difference in the rates of coral bleaching can cause by food production and INFREQUENT of animals .\n",
      "********************************************************************************\n",
      "EBA1415_BGJD_1_CB_ES-05726.ann\n",
      "********************************************************************************\n",
      "00000\n",
      ">>> The deeper colder waters in the eastern pacific rise to the surface .\n",
      "********************************************************************************\n",
      "EBA1415_BGJD_1_CB_ES-05727.ann\n",
      "********************************************************************************\n",
      "The things that lead to coral bleaching could be salt that near there , trade winds , and tropical storms .\n",
      ">>> It is said there fresh water animals and in the shallow tropical water .\n",
      ">>> So they cant take in salt water .\n",
      ">>> It is good for the corals to take it in .\n",
      ">>> This also causes in with tropical storm because it could push the salty water into their environment .\n",
      ">>> This is are things that could bleach them .\n",
      ">>> Trade winds could definitely could be a reason , because the corals are being disturbed .\n",
      "********************************************************************************\n",
      "EBA1415_BGJD_1_CB_ES-05728.ann\n",
      "********************************************************************************\n",
      "What leads to differences in the rates of coral bleaching is that once that happens during bleaching it turns white because of the ejection of the zooxanthellae algae it means it has been dead which is why healthy coral is a much INFREQUENT color and the bleached coral is just white that means it dead .\n",
      "********************************************************************************\n",
      "EBA1415_BGJD_1_CB_ES-05732.ann\n",
      "********************************************************************************\n",
      "Coral bleaching INFREQUENT most in the pacific ocean .\n",
      ">>> \" coral bleaching is most noticable in the pacific ocean .\n",
      ">>> Ran out of time\n",
      "********************************************************************************\n",
      "EBA1415_BGJD_1_CB_ES-05975.ann\n",
      "********************************************************************************\n",
      "Their are many different type of corals living in the oceans .\n",
      ">>> The different types of algae living within the coral polyps give the corals their varying colors .\n",
      ">>> Some coral have been \" bleached \" a plain white .\n",
      ">>> Coral bleaching is a phenomenon in which coral loses its color .\n",
      ">>> Coral bleaching is most noticeable in the pacific ocean .\n",
      ">>> This ocean covers about 0 0 of the surface of the entire globe , and contains double the amount of water found in the atlantic ocean .\n",
      ">>> Coral bleaching is how environmental stressors can negatively affect the balanced relationship between the coral and zooxanthellae .\n",
      ">>> During bleaching ; corals turn white due to the ejection or death of the zooxanthellae .\n",
      ">>> This results in a bleaching event that makes corals vulnerable to disease and starvation .\n",
      ">>> While some dying reefs recover from such events , many do not .\n",
      ">>> For example a massive coral bleaching event in 0000 is considered one of the worst events observed .\n",
      ">>> This INFREQUENT resulted in the death of 00 % of the world coral reefs .\n",
      "********************************************************************************\n",
      "EBA1415_BGJD_2_CB_ES-05735.ann\n",
      "********************************************************************************\n",
      "Coral bleaching comes from changes of it enviroment which puts stress on coral .\n",
      "********************************************************************************\n",
      "EBA1415_BGJD_2_CB_ES-05736.ann\n",
      "********************************************************************************\n",
      "Coral bleaching is mostly noticeable in the pacific ocean .\n",
      ">>> Coral bleaching is when coral loses it color .\n",
      ">>> They usually vary in many different colors but when they get bleached they turn white .\n",
      ">>> They are only found in clear ; shallow , tropical waters .\n",
      ">>> Coral reefs are made up of polyp .\n",
      ">>> Over time the polyp INFREQUENT , giving the coral a protective skeleton .\n",
      ">>> This is algae lives in coral tissues and need light for the process of photosynthesis .\n",
      ">>> Reef building corals need water temperatures between 00 - 00 degrees f , because the process of photosynthesis is sensitive to change in water temperature .\n",
      ">>> When the water temp rises the amount of carbon dioxide decreases .\n",
      ">>> Changes in the amount of the carbon dioxide mess up the balance that is important to keep corals healthy and safe .\n",
      ">>> Salinity also can cause harm to the coral .\n",
      ">>> When the salt level drops in water it may also affect the corals health .\n",
      ">>> The weaker the trade winds are the more coral bleaching there is as well which was shown in the graph .\n",
      ">>> Also shown in the graph the higher the water temps are the less coral bleaching there was as well .\n",
      ">>> The coral ends up bleaching due to the ejection or death of the zooxanthellae algae .\n",
      ">>> When the corals bleach they are in risk of disease and starvation .\n",
      "********************************************************************************\n",
      "EBA1415_BGJD_2_CB_ES-05738.ann\n",
      "********************************************************************************\n",
      "\" coral bleaching is a phenomenon in which coral loses it color . \"\n",
      ">>> This statement INFREQUENT that many types of coral can lose there color do to being bleached .\n",
      ">>> \" events leading to coral bleaching are a serious problem with a serious impact on the world coral reefs . \"\n",
      ">>> This problem can cause serious damage to much corral in the ocean and the effects that it suffers from can lead to worse things .\n",
      ">>> The coral will eventually die if the color is bleached out .\n",
      ">>> The coral needs it color or else the coral will have no life INFREQUENT left and will just end up dead .\n",
      ">>> The differences in the rates of coral bleaching is that the coral needs it color , so if it is ever bleached it will end up dying .\n",
      ">>> \" coral bleaching is most noticeable in the pacific ocean . \"\n",
      ">>> The pacific ocean suffers much more coral bleaching then others .\n",
      "********************************************************************************\n",
      "EBA1415_BGJD_2_CB_ES-05740.ann\n",
      "********************************************************************************\n",
      "What mainly leads to different rates of coral bleaching is trade winds , when the water temperature is high the trade wind is low .\n",
      ">>> When the trade wind is low the temperature is high .\n",
      ">>> The coral bleaching come from when the trade winds are low .\n",
      ">>> In the text it says , \" need - water temperatures between 00 - 00 degrees . \"\n",
      ">>> So that means the winds are low the temperature is high .\n",
      ">>> Having off temperature causes change in the coral because of the salinity , which have coral change colors .\n",
      "********************************************************************************\n",
      "EBA1415_BGJD_2_CB_ES-05744.ann\n",
      "********************************************************************************\n",
      "First , photosynthesis happens and while it happening carbon is passed from the algae to the coral in the form of glucose .\n",
      "********************************************************************************\n",
      "EBA1415_BGJD_2_CB_ES-05747.ann\n",
      "********************************************************************************\n",
      "Differences in the rates of coral bleaching is . . .\n",
      ">>> Ran out of time\n",
      "********************************************************************************\n",
      "EBA1415_BGJD_2_CB_ES-05751.ann\n",
      "********************************************************************************\n",
      "Coral bleaching of rates leads to different rates is because of the different types of algae that is living .\n",
      ">>> On the background text it stated that inside the coral polyps give the corals their varying colors .\n",
      ">>> The difference in the trade winds and the corals bleaching is the wind is weaker than the water temperature .\n",
      ">>> The coral bleach has increased in 0000 and it decreased in 0000 , 0000 and in 0000 .\n",
      ">>> But as the water temperature increases the amount of carbon dioxide in the water decreases .\n",
      ">>> It changes in the amount of co2 threaten the delicate balance required to keep corals healthy .\n",
      ">>> As long as there is enough sunlight and a normal amount of co2 , the algae will undergo photosynthesis this is the most important because the chemicals that the algae make provide the coral with the energy it needs to survive .\n",
      ">>> Coral and zooanthallae benefits from their relationship with each other .\n",
      ">>> The algae rely on the coral to stay healthy , but corals can sustain physical damage from some destructive practices .\n",
      ">>> But coral bleaching and healthy coral is one example of how environmental stressors can negatively affect the balanced relationship between the coral and zooanthellae .\n",
      "********************************************************************************\n",
      "EBA1415_BGJD_2_CB_ES-05752.ann\n",
      "********************************************************************************\n",
      "Coral bleaching is a phenomena where coral loses its color .\n",
      ">>> What can cause the corals to change color is the change in temperature .\n",
      ">>> Like if the temperature is higher then that effects the corals to bleach .\n",
      ">>> In the charts it shows how as the temperature rises , more coral bleaching is reported .\n",
      ">>> Salt can also affect how the coral is .\n",
      ">>> Like they are sensitive to how salty the water is .\n",
      ">>> If it drops alot then it can really affect the coral .\n",
      ">>> So it needs to be at stable condition for the coral to be healthy .\n",
      ">>> In order for coral to stay healthy they also need the help from zooxanthellae algae which gives them their color .\n",
      "********************************************************************************\n",
      "EBA1415_BGJD_2_CB_ES-05753.ann\n",
      "********************************************************************************\n",
      "What leads to differences in the rates of coral bleaching are coral polyps it help give the corals there varying color .\n",
      ">>> Another difference is coral reefs because it is only found in clear , shallow , tropical waters .\n",
      ">>> It means that the zooxanthellae use energy from sunlight to combine carbon dioxide , so the coral can survive .\n",
      ">>> Coral bleaching loses their color because it dont have enough water from the pacific ocean .\n"
     ]
    }
   ],
   "source": [
    "for essay in tagged_essays2[0:20]:\n",
    "    print(\"*\" * 80)\n",
    "    print(essay.name)\n",
    "    print(\"*\" * 80)\n",
    "    sents = []\n",
    "    for sent in essay.sentences:\n",
    "        tokens = []\n",
    "        for i, (wd, tags) in enumerate(sent):\n",
    "            if i == 0:\n",
    "                wd = wd[0].upper() + wd[1:]\n",
    "            tokens.append(wd.strip())\n",
    "        str_sent = \" \".join(tokens).strip()\n",
    "        sents.append(str_sent)\n",
    "    str_essay = \"\\n>>> \".join(sents)\n",
    "    print(str_essay)"
   ]
  },
  {
   "cell_type": "code",
   "execution_count": 28,
   "metadata": {},
   "outputs": [
    {
     "data": {
      "text/plain": [
       "'/Users/simon.hughes/Google Drive/Phd/Data/CoralBleaching/Thesis_Dataset/CoReference/Training'"
      ]
     },
     "execution_count": 28,
     "metadata": {},
     "output_type": "execute_result"
    }
   ],
   "source": [
    "output_folder = root_folder + \"CoReference/Training\"\n",
    "output_folder"
   ]
  },
  {
   "cell_type": "code",
   "execution_count": 48,
   "metadata": {},
   "outputs": [],
   "source": [
    "for essay in tagged_essays2:\n",
    "\n",
    "    sents = []\n",
    "    for sent in essay.sentences:\n",
    "        tokens = []\n",
    "        for i, (wd, tags) in enumerate(sent):\n",
    "            if i == 0:\n",
    "                wd = wd[0].upper() + wd[1:]\n",
    "            tokens.append(wd.strip())\n",
    "        str_sent = \" \".join(tokens).strip()\n",
    "        sents.append(str_sent)\n",
    "    str_essay = \"\\n\".join(sents)\n",
    "    fname = output_folder + \"/\" + essay.name.replace(\".ann\", \".txt\")\n",
    "    #print(fname)\n",
    "    #continue\n",
    "    with open(fname, \"w+\") as f:\n",
    "        f.write(str_essay)"
   ]
  },
  {
   "cell_type": "code",
   "execution_count": 46,
   "metadata": {},
   "outputs": [
    {
     "data": {
      "text/plain": [
       "<processessays.Essay at 0x1a1c75feb8>"
      ]
     },
     "execution_count": 46,
     "metadata": {},
     "output_type": "execute_result"
    }
   ],
   "source": [
    "e = [e for e in tagged_essays2 if e.name.startswith(\"EBA1415_AEKD_5_CB_ES-05579\")][0]\n",
    "e"
   ]
  },
  {
   "cell_type": "code",
   "execution_count": 49,
   "metadata": {},
   "outputs": [
    {
     "name": "stdout",
     "output_type": "stream",
     "text": [
      "********************************************************************************\n",
      "i read over marine biology and has been discovered that there are many different types of corals that live in the ocean that live close to the animals and loses their color .\n"
     ]
    }
   ],
   "source": [
    "# Validate it doesn't replace biology with INFREQUENT\n",
    "for sent in e.sentences[0:1]:\n",
    "    print(\"*\" * 80)\n",
    "    wds = list(zip(*sent))[0]\n",
    "    print(\" \".join(wds))"
   ]
  },
  {
   "cell_type": "markdown",
   "metadata": {},
   "source": [
    "## NOTES\n",
    "* Don't replace INFREQUENT's - may break co-reference resolution, and also RNN tagging\n",
    "* Need to lower case words after processing"
   ]
  },
  {
   "cell_type": "code",
   "execution_count": 52,
   "metadata": {},
   "outputs": [
    {
     "data": {
      "text/plain": [
       "1.7538888888888888"
      ]
     },
     "execution_count": 52,
     "metadata": {},
     "output_type": "execute_result"
    }
   ],
   "source": [
    "((902*7)/60)/60"
   ]
  },
  {
   "cell_type": "code",
   "execution_count": null,
   "metadata": {},
   "outputs": [],
   "source": []
  }
 ],
 "metadata": {
  "kernelspec": {
   "display_name": "Python [conda env:phd_py36]",
   "language": "python",
   "name": "conda-env-phd_py36-py"
  },
  "language_info": {
   "codemirror_mode": {
    "name": "ipython",
    "version": 3
   },
   "file_extension": ".py",
   "mimetype": "text/x-python",
   "name": "python",
   "nbconvert_exporter": "python",
   "pygments_lexer": "ipython3",
   "version": "3.6.4"
  }
 },
 "nbformat": 4,
 "nbformat_minor": 2
}
